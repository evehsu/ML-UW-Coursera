{
 "cells": [
  {
   "cell_type": "code",
   "execution_count": 1,
   "metadata": {
    "collapsed": true
   },
   "outputs": [],
   "source": [
    "import pandas as pd\n",
    "import numpy as np\n",
    "import math\n",
    "from sklearn import linear_model"
   ]
  },
  {
   "cell_type": "code",
   "execution_count": 2,
   "metadata": {
    "collapsed": true
   },
   "outputs": [],
   "source": [
    "dtype_dict = {'bathrooms':float, 'waterfront':int, 'sqft_above':int, 'sqft_living15':float, 'grade':int, \n",
    "              'yr_renovated':int, 'price':float, 'bedrooms':float, 'zipcode':str, 'long':float, 'sqft_lot15':float,\n",
    "              'sqft_living':float, 'floors':str, 'condition':int, 'lat':float, 'date':str, 'sqft_basement':int, \n",
    "              'yr_built':int, 'id':str, 'sqft_lot':int, 'view':int}"
   ]
  },
  {
   "cell_type": "code",
   "execution_count": 10,
   "metadata": {
    "collapsed": false
   },
   "outputs": [],
   "source": [
    "housePrice_train = pd.read_csv(\"/Users/wxu/workspace/regression/week2/kc_house_train_data.csv\",sep=\",\",header=0,dtype = dtype_dict)\n",
    "housePrice_test = pd.read_csv(\"/Users/wxu/workspace/regression/week2/kc_house_test_data.csv\",sep=\",\",header=0,dtype = dtype_dict)"
   ]
  },
  {
   "cell_type": "code",
   "execution_count": 11,
   "metadata": {
    "collapsed": false
   },
   "outputs": [],
   "source": [
    "housePrice_train[\"bedrooms_squared\"] = housePrice_train[\"bedrooms\"]*housePrice_train[\"bedrooms\"]\n",
    "housePrice_train[\"bed_bath_rooms\"] = housePrice_train[\"bedrooms\"]*housePrice_train[\"bathrooms\"]\n",
    "housePrice_train[\"log_sqft_living\"] = np.log(housePrice_train[\"sqft_living\"])\n",
    "housePrice_train[\"lat_plus_long\"] = housePrice_train[\"lat\"]+housePrice_train[\"long\"]\n",
    "\n",
    "housePrice_test[\"bedrooms_squared\"] = housePrice_test[\"bedrooms\"]*housePrice_test[\"bedrooms\"]\n",
    "housePrice_test[\"bed_bath_rooms\"] = housePrice_test[\"bedrooms\"]*housePrice_test[\"bathrooms\"]\n",
    "housePrice_test[\"log_sqft_living\"] = np.log(housePrice_test[\"sqft_living\"])\n",
    "housePrice_test[\"lat_plus_long\"] = housePrice_test[\"lat\"]+housePrice_test[\"long\"]"
   ]
  },
  {
   "cell_type": "code",
   "execution_count": 14,
   "metadata": {
    "collapsed": false
   },
   "outputs": [
    {
     "name": "stdout",
     "output_type": "stream",
     "text": [
      "12.4466777016\n",
      "7.50390163159\n",
      "7.55027467965\n",
      "-74.653333554\n"
     ]
    }
   ],
   "source": [
    "# quiz 1\n",
    "print np.mean(housePrice_test[\"bedrooms_squared\"])\n",
    "print np.mean(housePrice_test[\"bed_bath_rooms\"])\n",
    "print np.mean(housePrice_test[\"log_sqft_living\"])\n",
    "print np.mean(housePrice_test[\"lat_plus_long\"])"
   ]
  },
  {
   "cell_type": "code",
   "execution_count": 5,
   "metadata": {
    "collapsed": true
   },
   "outputs": [],
   "source": [
    "housePrice_train_X_model1 = housePrice_train[[\"sqft_living\",\"bedrooms\",\"bathrooms\",\"lat\",\"long\"]]\n",
    "housePrice_train_X_model2 = housePrice_train[[\"sqft_living\",\"bedrooms\",\"bathrooms\",\"lat\",\"long\",\"bed_bath_rooms\"]]\n",
    "housePrice_train_X_model3 = housePrice_train[[\"sqft_living\",\"bedrooms\",\"bathrooms\",\"lat\",\"long\",\"bed_bath_rooms\",\n",
    "                                             \"bedrooms_squared\",\"log_sqft_living\",\"lat_plus_long\"]]\n",
    "housePrice_train_y = housePrice_train[\"price\"]\n",
    "\n",
    "housePrice_test_X_model1 = housePrice_test[[\"sqft_living\",\"bedrooms\",\"bathrooms\",\"lat\",\"long\"]]\n",
    "housePrice_test_X_model2 = housePrice_test[[\"sqft_living\",\"bedrooms\",\"bathrooms\",\"lat\",\"long\",\"bed_bath_rooms\"]]\n",
    "housePrice_test_X_model3 = housePrice_test[[\"sqft_living\",\"bedrooms\",\"bathrooms\",\"lat\",\"long\",\"bed_bath_rooms\",\n",
    "                                             \"bedrooms_squared\",\"log_sqft_living\",\"lat_plus_long\"]]\n",
    "housePrice_test_y = housePrice_test[\"price\"]"
   ]
  },
  {
   "cell_type": "code",
   "execution_count": 6,
   "metadata": {
    "collapsed": false
   },
   "outputs": [
    {
     "name": "stdout",
     "output_type": "stream",
     "text": [
      "('Coefficients: \\n', array([  3.12258646e+02,  -5.95865332e+04,   1.57067421e+04,\n",
      "         6.58619264e+05,  -3.09374351e+05]))\n",
      "('Coefficients: \\n', array([  3.06610053e+02,  -1.13446368e+05,  -7.14613083e+04,\n",
      "         6.54844630e+05,  -2.94298969e+05,   2.55796520e+04]))\n"
     ]
    }
   ],
   "source": [
    "model1 = linear_model.LinearRegression().fit(housePrice_train_X_model1,housePrice_train_y)\n",
    "print('Coefficients: \\n', model1.coef_)\n",
    "model2 = linear_model.LinearRegression().fit(housePrice_train_X_model2,housePrice_train_y)\n",
    "print('Coefficients: \\n', model2.coef_)\n",
    "model3 = linear_model.LinearRegression().fit(housePrice_train_X_model3,housePrice_train_y)\n"
   ]
  },
  {
   "cell_type": "code",
   "execution_count": 7,
   "metadata": {
    "collapsed": false
   },
   "outputs": [
    {
     "name": "stdout",
     "output_type": "stream",
     "text": [
      "53322409504.7\n",
      "52820397960.9\n",
      "61299673494.2\n"
     ]
    }
   ],
   "source": [
    "# RSS\n",
    "model1_testing_rss = np.mean((model1.predict(housePrice_test_X_model1) - housePrice_test_y) ** 2)\n",
    "model2_testing_rss = np.mean((model2.predict(housePrice_test_X_model2) - housePrice_test_y) ** 2)\n",
    "model3_testing_rss = np.mean((model3.predict(housePrice_test_X_model3) - housePrice_test_y) ** 2)\n",
    "print model1_testing_rss\n",
    "print model2_testing_rss\n",
    "print model3_testing_rss\n"
   ]
  },
  {
   "cell_type": "code",
   "execution_count": 9,
   "metadata": {
    "collapsed": true
   },
   "outputs": [],
   "source": [
    "housePrice_train[\"incpt\"]= np.array([1]*len(housePrice_train.index))\n",
    "housePrice_test[\"incpt\"]= np.array([1]*len(housePrice_test.index))\n",
    "housePrice_train_X_model1 = housePrice_train[[\"incpt\",\"sqft_living\",\"bedrooms\",\"bathrooms\",\"lat\",\"long\"]]\n",
    "housePrice_train_X_model2 = housePrice_train[[\"incpt\",\"sqft_living\",\"bedrooms\",\"bathrooms\",\"lat\",\"long\",\"bed_bath_rooms\"]]\n",
    "housePrice_train_X_model3 = housePrice_train[[\"incpt\",\"sqft_living\",\"bedrooms\",\"bathrooms\",\"lat\",\"long\",\"bed_bath_rooms\",\n",
    "                                             \"bedrooms_squared\",\"log_sqft_living\",\"lat_plus_long\"]]\n",
    "housePrice_train_y = housePrice_train[\"price\"]\n",
    "\n",
    "housePrice_test_X_model1 = housePrice_test[[\"incpt\",\"sqft_living\",\"bedrooms\",\"bathrooms\",\"lat\",\"long\"]]\n",
    "housePrice_test_X_model2 = housePrice_test[[\"incpt\",\"sqft_living\",\"bedrooms\",\"bathrooms\",\"lat\",\"long\",\"bed_bath_rooms\"]]\n",
    "housePrice_test_X_model3 = housePrice_test[[\"incpt\",\"sqft_living\",\"bedrooms\",\"bathrooms\",\"lat\",\"long\",\"bed_bath_rooms\",\n",
    "                                             \"bedrooms_squared\",\"log_sqft_living\",\"lat_plus_long\"]]\n",
    "housePrice_test_y = housePrice_test[\"price\"]"
   ]
  },
  {
   "cell_type": "code",
   "execution_count": 13,
   "metadata": {
    "collapsed": false
   },
   "outputs": [],
   "source": [
    "dataframe=housePrice_train\n",
    "features = [\"sqft_living\",\"bedrooms\",\"bathrooms\",\"lat\",\"long\"]\n",
    "output = [\"price\"]"
   ]
  },
  {
   "cell_type": "code",
   "execution_count": 63,
   "metadata": {
    "collapsed": true
   },
   "outputs": [],
   "source": [
    "def get_numpy_data(dataframe, features, output):\n",
    "    \n",
    "    dataframe['constant']=1\n",
    "    features = ['constant'] + features\n",
    "    features_matrix = dataframe[features].as_matrix()\n",
    "    output_array = dataframe.as_matrix([output])\n",
    "    \n",
    "    return (features_matrix, output_array)"
   ]
  },
  {
   "cell_type": "code",
   "execution_count": 131,
   "metadata": {
    "collapsed": true
   },
   "outputs": [],
   "source": [
    "def predict_outcome(feature_matrix,weights):\n",
    "    predictions = np.dot(feature_matrix,weights)\n",
    "    return(predictions)"
   ]
  },
  {
   "cell_type": "code",
   "execution_count": 132,
   "metadata": {
    "collapsed": true
   },
   "outputs": [],
   "source": [
    "def feature_derivative(error, feature):\n",
    "    derivative = 2*sum(error*feature)\n",
    "    return(derivative)"
   ]
  },
  {
   "cell_type": "code",
   "execution_count": 136,
   "metadata": {
    "collapsed": true
   },
   "outputs": [],
   "source": [
    "def regression_gradient_descent(feature_matrix, output, initial_weights, step_size, tolerance):\n",
    "    converged = False\n",
    "    curr_weights = np.array(initial_weights)\n",
    "    \n",
    "    while not converged:\n",
    "        \n",
    "        predictions = predict_outcome(feature_matrix,curr_weights)\n",
    "        error = predictions-output\n",
    "        \n",
    "        gradient_sum_squares = 0\n",
    "        \n",
    "        for i in range(len(curr_weights)):\n",
    "            ith_feature = feature_matrix[:,i]\n",
    "            ith_feature.shape = (len(ith_feature),1)\n",
    "            ith_derivative = feature_derivative(error,ith_feature)\n",
    "            gradient_sum_squares = gradient_sum_squares+ith_derivative**2\n",
    "            curr_weights[i] = curr_weights[i]-step_size*ith_derivative\n",
    "        \n",
    "        gradient_magnitude = math.sqrt(gradient_sum_squares)\n",
    "        if gradient_magnitude < tolerance:\n",
    "            converged = True\n",
    "    return(curr_weights)\n",
    "        "
   ]
  },
  {
   "cell_type": "code",
   "execution_count": 134,
   "metadata": {
    "collapsed": false
   },
   "outputs": [],
   "source": [
    "simple_features = ['sqft_living']\n",
    "my_output= 'price'\n",
    "(simple_feature_matrix, output) = get_numpy_data(housePrice_train, simple_features, my_output)\n",
    "initial_weights =[[-47000.], [1.]]\n",
    "step_size = 7e-12\n",
    "tolerance = 2.5e7"
   ]
  },
  {
   "cell_type": "code",
   "execution_count": 137,
   "metadata": {
    "collapsed": false
   },
   "outputs": [],
   "source": [
    "#quiz1\n",
    "simple_weights = regression_gradient_descent(simple_feature_matrix, output,initial_weights, step_size, tolerance)"
   ]
  },
  {
   "cell_type": "code",
   "execution_count": 138,
   "metadata": {
    "collapsed": false
   },
   "outputs": [
    {
     "data": {
      "text/plain": [
       "array([[-46999.88716555],\n",
       "       [   281.91211918]])"
      ]
     },
     "execution_count": 138,
     "metadata": {},
     "output_type": "execute_result"
    }
   ],
   "source": [
    "simple_weights"
   ]
  },
  {
   "cell_type": "code",
   "execution_count": 139,
   "metadata": {
    "collapsed": true
   },
   "outputs": [],
   "source": [
    "#quiz2\n",
    "(test_simple_feature_matrix, test_output) = get_numpy_data(housePrice_test, simple_features, my_output)"
   ]
  },
  {
   "cell_type": "code",
   "execution_count": 140,
   "metadata": {
    "collapsed": true
   },
   "outputs": [],
   "source": [
    "test_pred = predict_outcome(feature_matrix=test_simple_feature_matrix,weights=simple_weights)\n"
   ]
  },
  {
   "cell_type": "code",
   "execution_count": 141,
   "metadata": {
    "collapsed": false
   },
   "outputs": [
    {
     "name": "stdout",
     "output_type": "stream",
     "text": [
      "[ 356134.443255]\n"
     ]
    }
   ],
   "source": [
    "print test_pred[0]"
   ]
  },
  {
   "cell_type": "code",
   "execution_count": 142,
   "metadata": {
    "collapsed": false
   },
   "outputs": [
    {
     "name": "stdout",
     "output_type": "stream",
     "text": [
      "65121788815.8\n"
     ]
    }
   ],
   "source": [
    "simple_rss = np.mean((test_pred - test_output) ** 2)\n",
    "print simple_rss"
   ]
  },
  {
   "cell_type": "code",
   "execution_count": 146,
   "metadata": {
    "collapsed": false
   },
   "outputs": [],
   "source": [
    "model_features = ['sqft_living', 'sqft_living15']\n",
    "my_output = 'price'\n",
    "(feature_matrix, output) = get_numpy_data(housePrice_train, model_features,my_output)\n",
    "initial_weights = np.array([[-100000.], [1.], [1.]])\n",
    "step_size = 4e-12\n",
    "tolerance = 1e9"
   ]
  },
  {
   "cell_type": "code",
   "execution_count": 147,
   "metadata": {
    "collapsed": false
   },
   "outputs": [
    {
     "name": "stdout",
     "output_type": "stream",
     "text": [
      "[[ -1.00000000e+05]\n",
      " [  1.00000000e+00]\n",
      " [  1.00000000e+00]]\n",
      "(3, 1)\n"
     ]
    }
   ],
   "source": [
    "print initial_weights\n",
    "print initial_weights.shape"
   ]
  },
  {
   "cell_type": "code",
   "execution_count": 148,
   "metadata": {
    "collapsed": true
   },
   "outputs": [],
   "source": [
    "second_weights = regression_gradient_descent(feature_matrix, output,initial_weights, step_size, tolerance)"
   ]
  },
  {
   "cell_type": "code",
   "execution_count": 149,
   "metadata": {
    "collapsed": false
   },
   "outputs": [
    {
     "name": "stdout",
     "output_type": "stream",
     "text": [
      "[[ -9.99999688e+04]\n",
      " [  2.45072603e+02]\n",
      " [  6.52795267e+01]]\n"
     ]
    }
   ],
   "source": [
    "print second_weights"
   ]
  },
  {
   "cell_type": "code",
   "execution_count": 150,
   "metadata": {
    "collapsed": true
   },
   "outputs": [],
   "source": [
    "(test_sec_feature_matrix, test_output) = get_numpy_data(housePrice_test, model_features, my_output)\n",
    "test_pred2 = predict_outcome(feature_matrix=test_sec_feature_matrix,weights=second_weights)"
   ]
  },
  {
   "cell_type": "code",
   "execution_count": 152,
   "metadata": {
    "collapsed": false
   },
   "outputs": [
    {
     "name": "stdout",
     "output_type": "stream",
     "text": [
      "[ 366651.41162949]\n",
      "[ 356134.443255]\n",
      "[ 310000.]\n"
     ]
    }
   ],
   "source": [
    "#quiz3\n",
    "print test_pred2[0]\n",
    "print test_pred[0]\n",
    "print test_output[0]"
   ]
  },
  {
   "cell_type": "code",
   "execution_count": 153,
   "metadata": {
    "collapsed": false
   },
   "outputs": [
    {
     "name": "stdout",
     "output_type": "stream",
     "text": [
      "63907175131.2\n"
     ]
    }
   ],
   "source": [
    "#quiz4\n",
    "second_rss = np.mean((test_pred2 - test_output) ** 2)\n",
    "print second_rss"
   ]
  }
 ],
 "metadata": {
  "kernelspec": {
   "display_name": "Python 2",
   "language": "python",
   "name": "python2"
  },
  "language_info": {
   "codemirror_mode": {
    "name": "ipython",
    "version": 2
   },
   "file_extension": ".py",
   "mimetype": "text/x-python",
   "name": "python",
   "nbconvert_exporter": "python",
   "pygments_lexer": "ipython2",
   "version": "2.7.11"
  }
 },
 "nbformat": 4,
 "nbformat_minor": 0
}

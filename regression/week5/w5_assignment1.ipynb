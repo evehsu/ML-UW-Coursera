{
 "cells": [
  {
   "cell_type": "code",
   "execution_count": 1,
   "metadata": {
    "collapsed": true
   },
   "outputs": [],
   "source": [
    "import pandas as pd\n",
    "import numpy as np\n",
    "from sklearn import linear_model\n",
    "from math import log, sqrt\n",
    "import functools"
   ]
  },
  {
   "cell_type": "code",
   "execution_count": 13,
   "metadata": {
    "collapsed": true
   },
   "outputs": [],
   "source": [
    "dtype_dict = {'bathrooms':float, 'waterfront':int, 'sqft_above':int, 'sqft_living15':float, 'grade':int, 'yr_renovated':int, 'price':float, 'bedrooms':float, 'zipcode':str, 'long':float, 'sqft_lot15':float, 'sqft_living':float, 'floors':float, 'condition':int, 'lat':float, 'date':str, 'sqft_basement':int, 'yr_built':int, 'id':str, 'sqft_lot':int, 'view':int}"
   ]
  },
  {
   "cell_type": "code",
   "execution_count": 19,
   "metadata": {
    "collapsed": false
   },
   "outputs": [],
   "source": [
    "training = pd.read_csv(\"/Users/wxu/workspace/regression/week3/wk3_kc_house_train_data.csv\",sep=\",\",header=0,dtype = dtype_dict)\n",
    "validation = pd.read_csv(\"/Users/wxu/workspace/regression/week3/wk3_kc_house_valid_data.csv\",sep=\",\",header=0,dtype = dtype_dict)\n",
    "testing = pd.read_csv(\"/Users/wxu/workspace/regression/week3/wk3_kc_house_test_data.csv\",sep=\",\",header=0,dtype = dtype_dict)\n",
    "house = pd.read_csv(\"/Users/wxu/workspace/regression/week3/kc_house_data.csv\",sep=\",\",header= 0,dtype = dtype_dict)\n"
   ]
  },
  {
   "cell_type": "code",
   "execution_count": 15,
   "metadata": {
    "collapsed": false
   },
   "outputs": [],
   "source": [
    "house[\"sqft_living_sqrt\"] = house[\"sqft_living\"].apply(sqrt)\n",
    "house['sqft_lot_sqrt'] = house['sqft_lot'].apply(sqrt)\n",
    "house[\"bedrooms_square\"] = house[\"bedrooms\"]*house[\"bedrooms\"]\n",
    "house[\"floors_square\"]=house[\"floors\"]*house[\"floors\"]"
   ]
  },
  {
   "cell_type": "code",
   "execution_count": 16,
   "metadata": {
    "collapsed": true
   },
   "outputs": [],
   "source": [
    "all_features = ['bedrooms', 'bedrooms_square',\n",
    "            'bathrooms',\n",
    "            'sqft_living', 'sqft_living_sqrt',\n",
    "            'sqft_lot', 'sqft_lot_sqrt',\n",
    "            'floors', 'floors_square',\n",
    "            'waterfront', 'view', 'condition', 'grade',\n",
    "            'sqft_above',\n",
    "            'sqft_basement',\n",
    "            'yr_built', 'yr_renovated']"
   ]
  },
  {
   "cell_type": "code",
   "execution_count": 17,
   "metadata": {
    "collapsed": true
   },
   "outputs": [],
   "source": [
    "model_all = linear_model.Lasso(alpha=5e2,normalize=True)\n",
    "model_all_fit = model_all.fit(house[all_features],house[\"price\"])"
   ]
  },
  {
   "cell_type": "code",
   "execution_count": 87,
   "metadata": {
    "collapsed": false
   },
   "outputs": [
    {
     "name": "stdout",
     "output_type": "stream",
     "text": [
      "[     0.              0.              0.            134.43931396      0.\n",
      "      0.              0.              0.              0.              0.\n",
      "  24750.00458561      0.          61749.10309071      0.              0.\n",
      "     -0.              0.        ]\n",
      "['bedrooms', 'bedrooms_square', 'bathrooms', 'sqft_living', 'sqft_living_sqrt', 'sqft_lot', 'sqft_lot_sqrt', 'floors', 'floors_square', 'waterfront', 'view', 'condition', 'grade', 'sqft_above', 'sqft_basement', 'yr_built', 'yr_renovated']\n"
     ]
    }
   ],
   "source": [
    "print model_all_fit.coef_\n",
    "print all_features"
   ]
  },
  {
   "cell_type": "code",
   "execution_count": 20,
   "metadata": {
    "collapsed": true
   },
   "outputs": [],
   "source": [
    "testing['sqft_living_sqrt'] = testing['sqft_living'].apply(sqrt)\n",
    "testing['sqft_lot_sqrt'] = testing['sqft_lot'].apply(sqrt)\n",
    "testing['bedrooms_square'] = testing['bedrooms']*testing['bedrooms']\n",
    "testing['floors_square'] = testing['floors']*testing['floors']\n",
    "\n",
    "training['sqft_living_sqrt'] = training['sqft_living'].apply(sqrt)\n",
    "training['sqft_lot_sqrt'] = training['sqft_lot'].apply(sqrt)\n",
    "training['bedrooms_square'] = training['bedrooms']*training['bedrooms']\n",
    "training['floors_square'] = training['floors']*training['floors']\n",
    "\n",
    "validation['sqft_living_sqrt'] = validation['sqft_living'].apply(sqrt)\n",
    "validation['sqft_lot_sqrt'] = validation['sqft_lot'].apply(sqrt)\n",
    "validation['bedrooms_square'] = validation['bedrooms']*validation['bedrooms']\n",
    "validation['floors_square'] = validation['floors']*validation['floors']"
   ]
  },
  {
   "cell_type": "code",
   "execution_count": 31,
   "metadata": {
    "collapsed": false
   },
   "outputs": [],
   "source": [
    "def select_lambda_rss(lambdaList):\n",
    "    rss = [0]*len(lambdaList)\n",
    "    for i in range(len(lambdaList)):\n",
    "        \n",
    "        curr_model = linear_model.Lasso(alpha = lambdaList[i],normalize=True)\n",
    "        curr_model_fit = curr_model.fit(training[all_features],training[\"price\"])\n",
    "        curr_rss = sum((curr_model_fit.predict(validation[all_features])-validation[\"price\"])**2)\n",
    "        rss[i] = curr_rss\n",
    "    return rss\n",
    "    "
   ]
  },
  {
   "cell_type": "code",
   "execution_count": 35,
   "metadata": {
    "collapsed": false
   },
   "outputs": [
    {
     "name": "stdout",
     "output_type": "stream",
     "text": [
      "[  1.00000000e+01   3.16227766e+01   1.00000000e+02   3.16227766e+02\n",
      "   1.00000000e+03   3.16227766e+03   1.00000000e+04   3.16227766e+04\n",
      "   1.00000000e+05   3.16227766e+05   1.00000000e+06   3.16227766e+06\n",
      "   1.00000000e+07]\n"
     ]
    }
   ],
   "source": [
    "myLambda = np.logspace(1, 7, num=13)\n",
    "print myLambda"
   ]
  },
  {
   "cell_type": "code",
   "execution_count": 33,
   "metadata": {
    "collapsed": false
   },
   "outputs": [
    {
     "name": "stdout",
     "output_type": "stream",
     "text": [
      "[398213327300134.19, 399041900253348.19, 429791604072558.12, 463739831045119.62, 645898733633810.38, 1222506859427156.8, 1222506859427156.8, 1222506859427156.8, 1222506859427156.8, 1222506859427156.8, 1222506859427156.8, 1222506859427156.8, 1222506859427156.8]\n",
      "3.982133273e+14\n"
     ]
    }
   ],
   "source": [
    "myRss = select_lambda_rss(myLambda)\n",
    "print myRss\n",
    "print min(myRss)"
   ]
  },
  {
   "cell_type": "code",
   "execution_count": 38,
   "metadata": {
    "collapsed": false
   },
   "outputs": [
    {
     "name": "stdout",
     "output_type": "stream",
     "text": [
      "9.84674025527e+13\n"
     ]
    }
   ],
   "source": [
    "select_model = linear_model.Lasso(alpha = 10,normalize=True)\n",
    "select_model_fit = select_model.fit(training[all_features],training[\"price\"])\n",
    "test_rss = sum((select_model_fit.predict(testing[all_features])-testing[\"price\"])**2)\n",
    "print test_rss"
   ]
  },
  {
   "cell_type": "code",
   "execution_count": 39,
   "metadata": {
    "collapsed": false
   },
   "outputs": [
    {
     "data": {
      "text/plain": [
       "15"
      ]
     },
     "execution_count": 39,
     "metadata": {},
     "output_type": "execute_result"
    }
   ],
   "source": [
    "np.count_nonzero(select_model_fit.coef_) + np.count_nonzero(select_model_fit.intercept_)"
   ]
  },
  {
   "cell_type": "code",
   "execution_count": 41,
   "metadata": {
    "collapsed": true
   },
   "outputs": [],
   "source": [
    "def select_lambda_fixed(lambdaList):\n",
    "    nonzero = [0]*len(lambdaList)\n",
    "    for i in range(len(lambdaList)):\n",
    "        \n",
    "        curr_model = linear_model.Lasso(alpha = lambdaList[i],normalize=True)\n",
    "        curr_model_fit = curr_model.fit(training[all_features],training[\"price\"])\n",
    "        curr_nonzero = np.count_nonzero(curr_model_fit.coef_) + np.count_nonzero(curr_model_fit.intercept_)\n",
    "        nonzero[i] = curr_nonzero\n",
    "    return nonzero\n",
    "    "
   ]
  },
  {
   "cell_type": "code",
   "execution_count": 42,
   "metadata": {
    "collapsed": true
   },
   "outputs": [],
   "source": [
    "myLambda2 = np.logspace(1, 4, num=20)\n",
    "myNonzero = select_lambda_fixed(myLambda2)"
   ]
  },
  {
   "cell_type": "code",
   "execution_count": 43,
   "metadata": {
    "collapsed": false
   },
   "outputs": [
    {
     "data": {
      "text/plain": [
       "[15, 15, 15, 15, 13, 12, 11, 10, 7, 6, 6, 6, 5, 3, 3, 2, 1, 1, 1, 1]"
      ]
     },
     "execution_count": 43,
     "metadata": {},
     "output_type": "execute_result"
    }
   ],
   "source": [
    "myNonzero"
   ]
  },
  {
   "cell_type": "code",
   "execution_count": 48,
   "metadata": {
    "collapsed": false
   },
   "outputs": [
    {
     "name": "stdout",
     "output_type": "stream",
     "text": [
      "[183.29807108324357]\n",
      "183.298071083\n"
     ]
    }
   ],
   "source": [
    "\n",
    "a = [a for (a,b) in zip(myLambda2,myNonzero) if b==7]\n",
    "print a\n",
    "print myLambda2[8]"
   ]
  },
  {
   "cell_type": "code",
   "execution_count": 52,
   "metadata": {
    "collapsed": false
   },
   "outputs": [
    {
     "name": "stdout",
     "output_type": "stream",
     "text": [
      "127.42749857\n",
      "263.665089873\n"
     ]
    }
   ],
   "source": [
    "l1_penalty_min = max([a for (a,b) in zip(myLambda2,myNonzero) if b==10])\n",
    "l1_penalty_max = min([a for (a,b) in zip(myLambda2,myNonzero) if b==6])\n",
    "print l1_penalty_min\n",
    "print l1_penalty_max"
   ]
  },
  {
   "cell_type": "code",
   "execution_count": 54,
   "metadata": {
    "collapsed": true
   },
   "outputs": [],
   "source": [
    "myLambda3 = np.linspace(l1_penalty_min,l1_penalty_max,20)"
   ]
  },
  {
   "cell_type": "code",
   "execution_count": 58,
   "metadata": {
    "collapsed": true
   },
   "outputs": [],
   "source": [
    "def select_lambda_rss_fixed(lambdaList):\n",
    "    nonzero = [0]*len(lambdaList)\n",
    "    rss = [0]*len(lambdaList)\n",
    "    for i in range(len(lambdaList)):\n",
    "        \n",
    "        curr_model = linear_model.Lasso(alpha = lambdaList[i],normalize=True)\n",
    "        curr_model_fit = curr_model.fit(training[all_features],training[\"price\"])\n",
    "        curr_nonzero = np.count_nonzero(curr_model_fit.coef_) + np.count_nonzero(curr_model_fit.intercept_)\n",
    "        nonzero[i] = curr_nonzero\n",
    "        curr_rss = sum((curr_model_fit.predict(validation[all_features])-validation[\"price\"])**2)\n",
    "        rss[i] = curr_rss\n",
    "        theList = zip(rss,nonzero,myLambda3)\n",
    "    return theList"
   ]
  },
  {
   "cell_type": "code",
   "execution_count": 62,
   "metadata": {
    "collapsed": false
   },
   "outputs": [
    {
     "name": "stdout",
     "output_type": "stream",
     "text": [
      "[(440037365263316.81, 7, 156.10909673930755), (440777489641605.69, 7, 163.27949628155611), (441566698090139.19, 7, 170.44989582380464), (442406413188665.12, 7, 177.6202953660532), (443296716874313.19, 7, 184.79069490830176), (444239780526141.06, 7, 191.96109445055032), (445230739842614.25, 7, 199.13149399279888)]\n"
     ]
    }
   ],
   "source": [
    "mytuple = select_lambda_rss_fixed(myLambda3)\n",
    "filterMytuple = [elem for elem in mytuple if elem[1]==7]\n",
    "print filterMytuple"
   ]
  },
  {
   "cell_type": "code",
   "execution_count": 69,
   "metadata": {
    "collapsed": false
   },
   "outputs": [],
   "source": [
    "selectTuple = [elem for elem in filterMytuple if elem[0]==min(map(lambda x: x[0],filterMytuple))]"
   ]
  },
  {
   "cell_type": "code",
   "execution_count": 70,
   "metadata": {
    "collapsed": false
   },
   "outputs": [
    {
     "name": "stdout",
     "output_type": "stream",
     "text": [
      "[(440037365263316.81, 7, 156.10909673930755)]\n"
     ]
    }
   ],
   "source": [
    "print selectTuple"
   ]
  },
  {
   "cell_type": "code",
   "execution_count": 71,
   "metadata": {
    "collapsed": false
   },
   "outputs": [
    {
     "data": {
      "text/plain": [
       "array([ -0.00000000e+00,  -0.00000000e+00,   1.06108903e+04,\n",
       "         1.63380252e+02,   0.00000000e+00,  -0.00000000e+00,\n",
       "        -0.00000000e+00,   0.00000000e+00,   0.00000000e+00,\n",
       "         5.06451687e+05,   4.19600436e+04,   0.00000000e+00,\n",
       "         1.16253554e+05,   0.00000000e+00,   0.00000000e+00,\n",
       "        -2.61223488e+03,   0.00000000e+00])"
      ]
     },
     "execution_count": 71,
     "metadata": {},
     "output_type": "execute_result"
    }
   ],
   "source": [
    "final_model = linear_model.Lasso(alpha = 156.10909673930755,normalize=True)\n",
    "final_model_fit = final_model.fit(training[all_features],training[\"price\"])\n",
    "final_model_fit.coef_"
   ]
  },
  {
   "cell_type": "code",
   "execution_count": 86,
   "metadata": {
    "collapsed": false
   },
   "outputs": [
    {
     "name": "stdout",
     "output_type": "stream",
     "text": [
      "['bathrooms', 'sqft_living', 'waterfront', 'view', 'grade', 'yr_built']\n"
     ]
    }
   ],
   "source": [
    "a = final_model_fit.coef_\n",
    "final_feature = [feature for feature,index in zip(all_features,range(len(a))) if index in list(np.where(a!=0)[0])]\n",
    "print final_feature"
   ]
  },
  {
   "cell_type": "code",
   "execution_count": 84,
   "metadata": {
    "collapsed": false
   },
   "outputs": [
    {
     "name": "stdout",
     "output_type": "stream",
     "text": [
      "17\n",
      "17\n"
     ]
    }
   ],
   "source": [
    "print len(a)\n",
    "print len(all_features)"
   ]
  }
 ],
 "metadata": {
  "kernelspec": {
   "display_name": "Python 2",
   "language": "python",
   "name": "python2"
  },
  "language_info": {
   "codemirror_mode": {
    "name": "ipython",
    "version": 2
   },
   "file_extension": ".py",
   "mimetype": "text/x-python",
   "name": "python",
   "nbconvert_exporter": "python",
   "pygments_lexer": "ipython2",
   "version": "2.7.11"
  }
 },
 "nbformat": 4,
 "nbformat_minor": 0
}

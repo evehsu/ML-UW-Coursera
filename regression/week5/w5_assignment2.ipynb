{
 "cells": [
  {
   "cell_type": "code",
   "execution_count": 1,
   "metadata": {
    "collapsed": true
   },
   "outputs": [],
   "source": [
    "import pandas as pd\n",
    "import numpy as np\n",
    "from sklearn import linear_model\n",
    "import math\n",
    "import functools\n"
   ]
  },
  {
   "cell_type": "code",
   "execution_count": 21,
   "metadata": {
    "collapsed": true
   },
   "outputs": [],
   "source": [
    "dtype_dict = {'bathrooms':float, 'waterfront':int, 'sqft_above':int, 'sqft_living15':float, \n",
    "              'grade':int, 'yr_renovated':int, 'price':float, 'bedrooms':float, 'zipcode':str, \n",
    "              'long':float, 'sqft_lot15':float, 'sqft_living':float, 'floors':float, 'condition':int, \n",
    "              'lat':float, 'date':str, 'sqft_basement':int, 'yr_built':int, 'id':str, 'sqft_lot':int, 'view':int}\n"
   ]
  },
  {
   "cell_type": "code",
   "execution_count": 22,
   "metadata": {
    "collapsed": false
   },
   "outputs": [],
   "source": [
    "training = pd.read_csv(\"/Users/wxu/workspace/regression/week5/kc_house_train_data.csv\",sep=\",\",header=0,dtype = dtype_dict)\n",
    "testing = pd.read_csv(\"/Users/wxu/workspace/regression/week5/kc_house_test_data.csv\",sep=\",\",header=0,dtype = dtype_dict)\n",
    "house = pd.read_csv(\"/Users/wxu/workspace/regression/week5/kc_house_data.csv\",sep=\",\",header= 0,dtype = dtype_dict)\n"
   ]
  },
  {
   "cell_type": "code",
   "execution_count": 4,
   "metadata": {
    "collapsed": true
   },
   "outputs": [],
   "source": [
    "def get_numpy_data(dataframe, features, output):\n",
    "    \n",
    "    dataframe['constant']=1\n",
    "    features = ['constant'] + features\n",
    "    features_matrix = dataframe[features].as_matrix()\n",
    "    output_array = dataframe.as_matrix([output])\n",
    "    \n",
    "    return (features_matrix, output_array)"
   ]
  },
  {
   "cell_type": "code",
   "execution_count": 5,
   "metadata": {
    "collapsed": true
   },
   "outputs": [],
   "source": [
    "def predict_outcome(feature_matrix,weights):\n",
    "    predictions = np.dot(feature_matrix,weights)\n",
    "    return(predictions)"
   ]
  },
  {
   "cell_type": "code",
   "execution_count": 6,
   "metadata": {
    "collapsed": true
   },
   "outputs": [],
   "source": [
    "def normalize_features(feature_matrix):\n",
    "    norms = np.linalg.norm(feature_matrix, axis=0)\n",
    "    norm_features = feature_matrix/norms\n",
    "    return (norm_features,norms)"
   ]
  },
  {
   "cell_type": "code",
   "execution_count": 7,
   "metadata": {
    "collapsed": true
   },
   "outputs": [],
   "source": [
    "def lasso_coordinate_descent_step(i, feature_matrix, output, weights, l1_penalty):\n",
    "    # i: the ith feature\n",
    "    # feature_matrix/output, output from get_numpy_data and normalize_features\n",
    "    #weights: initial weight\n",
    "    # compute prediction\n",
    "    prediction = predict_outcome(feature_matrix,weights)\n",
    "    prediction.shape = (len(prediction),1)\n",
    "    # compute ro[i] = SUM[ [feature_i]*(output - prediction + weight[i]*[feature_i]) ]\n",
    "    curr_feature = np.asarray(map(lambda x: x[i],feature_matrix))\n",
    "    curr_feature.shape = (len(curr_feature),1)\n",
    "    error_no_i = output - prediction + weights[i]*curr_feature\n",
    "    ro_i = sum(curr_feature*error_no_i)[0]\n",
    "    \n",
    "    if i == 0: # intercept -- do not regularize\n",
    "        new_weight_i = ro_i\n",
    "    elif ro_i < -l1_penalty/2.:\n",
    "        new_weight_i = ro_i+l1_penalty/2.\n",
    "    elif ro_i > l1_penalty/2.:\n",
    "        new_weight_i = ro_i-l1_penalty/2.\n",
    "    else:\n",
    "        new_weight_i = 0.\n",
    "    \n",
    "    return new_weight_i\n"
   ]
  },
  {
   "cell_type": "code",
   "execution_count": 8,
   "metadata": {
    "collapsed": true
   },
   "outputs": [],
   "source": [
    "def lasso_cyclical_coordinate_descent(feature_matrix, output, initial_weights, l1_penalty, tolerance):\n",
    "    num_of_feature = feature_matrix.shape[1]\n",
    "    curr_weights = initial_weights\n",
    "    change = [0]*num_of_feature\n",
    "    for i in range(num_of_feature):\n",
    "        tmp = curr_weights[i]\n",
    "        curr_weights[i] = lasso_coordinate_descent_step(i, feature_matrix = feature_matrix , \n",
    "                                                        output=output, weights=curr_weights, \n",
    "                                              l1_penalty=l1_penalty)\n",
    "        \n",
    "        change[i]=abs(curr_weights[i]-tmp)         \n",
    "        \n",
    "    while max(change)>tolerance:\n",
    "        change = [0]*num_of_feature\n",
    "        for i in range(num_of_feature):\n",
    "            tmp = curr_weights[i]\n",
    "            curr_weights[i] = lasso_coordinate_descent_step(i, feature_matrix = feature_matrix , \n",
    "                                                        output=output, weights=curr_weights,l1_penalty=l1_penalty)\n",
    "            change[i]=abs(curr_weights[i]-tmp)\n",
    "           \n",
    "    return curr_weights"
   ]
  },
  {
   "cell_type": "code",
   "execution_count": 9,
   "metadata": {
    "collapsed": true
   },
   "outputs": [],
   "source": [
    "twoFeatures = [\"sqft_living\",\"bedrooms\"]\n",
    "moreFeatures = [\"bedrooms\", \"bathrooms\", \"sqft_living\", \"sqft_lot\", \"floors\", \"waterfront\", \"view\", \n",
    "                \"condition\", \"grade\", \"sqft_above\", \"sqft_basement\", \"yr_built\", \"yr_renovated\"]\n"
   ]
  },
  {
   "cell_type": "code",
   "execution_count": 29,
   "metadata": {
    "collapsed": false
   },
   "outputs": [],
   "source": [
    "train_twoFeatures,train_output = get_numpy_data(training,twoFeatures,\"price\")\n",
    "train_twoFeatures_norm,norms_twoFeatures = normalize_features(train_twoFeatures)\n",
    "\n",
    "train_moreFeatures,train_output = get_numpy_data(training,moreFeatures,\"price\")\n",
    "train_moreFeatures_norm,norms_moreFeatures = normalize_features(train_moreFeatures)\n",
    "\n",
    "test_twoFeatures,test_output = get_numpy_data(testing,twoFeatures,\"price\")\n",
    "test_moreFeatures,test_output = get_numpy_data(testing,moreFeatures,\"price\")\n"
   ]
  },
  {
   "cell_type": "code",
   "execution_count": 26,
   "metadata": {
    "collapsed": false
   },
   "outputs": [
    {
     "name": "stdout",
     "output_type": "stream",
     "text": [
      "[24429600.234403368, 0.0, 0.0, 48389174.771548547, 0.0, 0.0, 3317511.214921644, 7329961.8117143307, 0.0, 0.0, 0.0, 0.0, 0.0, 0.0]\n",
      "[71114625.714887127, 0.0, 0.0, 0.0, 0.0, 0.0, 0.0, 0.0, 0.0, 0.0, 0.0, 0.0, 0.0, 0.0]\n",
      "[78564738.341568649, -22097398.924305156, 12791071.872784993, 93808088.092812315, -2013172.7570497482, -4219184.9326500809, 6482842.8175350353, 7127408.5348068392, 5001664.8546970822, 14327518.437141119, -15770959.152374173, -5159591.2221315242, -84495341.768439025, 2824439.4970368915]\n"
     ]
    }
   ],
   "source": [
    "weights1e7 = lasso_cyclical_coordinate_descent(feature_matrix = train_moreFeatures_norm, \n",
    "                                               output = train_output, initial_weights = [0]*14,\n",
    "                                               l1_penalty=1e7, tolerance=1.0)\n",
    "weights1e8 = lasso_cyclical_coordinate_descent(feature_matrix = train_moreFeatures_norm, \n",
    "                                               output = train_output, initial_weights = [0]*14,\n",
    "                                               l1_penalty=1e8, tolerance=1.0)\n",
    "weights1e4 = lasso_cyclical_coordinate_descent(feature_matrix = train_moreFeatures_norm, \n",
    "                                               output = train_output, initial_weights = [0]*14,\n",
    "                                               l1_penalty=1e4, tolerance=5e5)\n",
    "\n",
    "print weights1e7\n",
    "print weights1e8\n",
    "print weights1e4"
   ]
  },
  {
   "cell_type": "code",
   "execution_count": 28,
   "metadata": {
    "collapsed": true
   },
   "outputs": [],
   "source": [
    "weights1e7_normalize = weights1e7/norms_moreFeatures\n",
    "weights1e8_normalize = weights1e8/norms_moreFeatures\n",
    "weights1e4_normalize = weights1e4/norms_moreFeatures"
   ]
  },
  {
   "cell_type": "code",
   "execution_count": 37,
   "metadata": {
    "collapsed": false
   },
   "outputs": [
    {
     "name": "stdout",
     "output_type": "stream",
     "text": [
      "[  2.75962076e+14]\n",
      "[  5.37166151e+14]\n",
      "[  2.28459959e+14]\n"
     ]
    }
   ],
   "source": [
    "predict1e7 = predict_outcome(test_moreFeatures,weights1e7_normalize);predict1e7.shape = [4229,1]\n",
    "predict1e8 = predict_outcome(test_moreFeatures,weights1e8_normalize);predict1e8.shape = [4229,1] \n",
    "predict1e4 = predict_outcome(test_moreFeatures,weights1e4_normalize);predict1e4.shape = [4229,1]\n",
    "rss1e7 = sum((predict1e7-test_output)**2)\n",
    "rss1e8 = sum((predict1e8-test_output)**2)\n",
    "rss1e4 = sum((predict1e4-test_output)**2)\n",
    "print rss1e7;print rss1e8; print rss1e4"
   ]
  },
  {
   "cell_type": "code",
   "execution_count": 50,
   "metadata": {
    "collapsed": false
   },
   "outputs": [
    {
     "name": "stdout",
     "output_type": "stream",
     "text": [
      "[ 87939470.82325152]\n",
      "[ 80966698.66623905]\n"
     ]
    }
   ],
   "source": [
    "#quiz 1 quiz2\n",
    "features_whole,output_whole = get_numpy_data(house,twoFeatures,\"price\")\n",
    "features_whole_normalize,whole_norms = normalize_features(features_whole)\n",
    "initial_weights = [1,4,1]\n",
    "predict_whole = predict_outcome(features_whole_normalize,initial_weights)\n",
    "feature1 = features_whole_normalize[:,1];feature2 = features_whole_normalize[:,2]\n",
    "predict_whole.shape = [21613,1];feature1.shape = [21613,1];feature2.shape = [21613,1]\n",
    "#error_no_i = output - prediction + weights[i]*curr_feature\n",
    "ro1 = sum(feature1*(output_whole - predict_whole + initial_weights[1]*feature1))\n",
    "ro2 = sum(feature2*(output_whole - predict_whole + initial_weights[2]*feature2))\n",
    "print ro1 \n",
    "print ro2"
   ]
  },
  {
   "cell_type": "code",
   "execution_count": 51,
   "metadata": {
    "collapsed": false
   },
   "outputs": [
    {
     "name": "stdout",
     "output_type": "stream",
     "text": [
      "[  1.63049248e+15]\n"
     ]
    }
   ],
   "source": [
    "#quiz3,4\n",
    "simple_weights = lasso_cyclical_coordinate_descent(feature_matrix = features_whole_normalize, \n",
    "                                               output = output_whole, initial_weights = [0]*3,\n",
    "                                               l1_penalty=1e7, tolerance=1.0)\n",
    "\n",
    "predict_simple_whole = predict_outcome(features_whole_normalize,simple_weights);predict_simple_whole.shape = [21613,1]\n",
    "rss_simple = sum((predict_simple_whole-output_whole)**2)\n",
    "print rss_simple\n",
    "print simple_weights"
   ]
  },
  {
   "cell_type": "code",
   "execution_count": 52,
   "metadata": {
    "collapsed": false
   },
   "outputs": [
    {
     "name": "stdout",
     "output_type": "stream",
     "text": [
      "[21624997.959518719, 63157247.20788978, 0.0]\n"
     ]
    }
   ],
   "source": []
  }
 ],
 "metadata": {
  "kernelspec": {
   "display_name": "Python 2",
   "language": "python",
   "name": "python2"
  },
  "language_info": {
   "codemirror_mode": {
    "name": "ipython",
    "version": 2
   },
   "file_extension": ".py",
   "mimetype": "text/x-python",
   "name": "python",
   "nbconvert_exporter": "python",
   "pygments_lexer": "ipython2",
   "version": "2.7.11"
  }
 },
 "nbformat": 4,
 "nbformat_minor": 0
}

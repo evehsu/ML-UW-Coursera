{
 "cells": [
  {
   "cell_type": "code",
   "execution_count": 12,
   "metadata": {
    "collapsed": true
   },
   "outputs": [],
   "source": [
    "import pandas as pd\n",
    "import numpy as np\n",
    "import math\n",
    "from sklearn import linear_model\n",
    "import functools"
   ]
  },
  {
   "cell_type": "code",
   "execution_count": 2,
   "metadata": {
    "collapsed": true
   },
   "outputs": [],
   "source": [
    "dtype_dict = {'bathrooms':float, 'waterfront':int, 'sqft_above':int, 'sqft_living15':float, 'grade':int, \n",
    "              'yr_renovated':int, 'price':float, 'bedrooms':float, 'zipcode':str, 'long':float, 'sqft_lot15':float, \n",
    "              'sqft_living':float, 'floors':str, 'condition':int, 'lat':float, 'date':str, 'sqft_basement':int, 'yr_built':int, \n",
    "              'id':str, 'sqft_lot':int, 'view':int}"
   ]
  },
  {
   "cell_type": "code",
   "execution_count": 4,
   "metadata": {
    "collapsed": false
   },
   "outputs": [],
   "source": [
    "train = pd.read_csv(\"/Users/wxu/workspace/regression/week4/wk3_kc_house_train_data.csv\",sep=\",\",header=0,dtype = dtype_dict)\n",
    "valid = pd.read_csv(\"/Users/wxu/workspace/regression/week4/wk3_kc_house_valid_data.csv\",sep=\",\",header=0,dtype = dtype_dict)\n",
    "test = pd.read_csv(\"/Users/wxu/workspace/regression/week4/wk3_kc_house_test_data.csv\",sep=\",\",header=0,dtype = dtype_dict)\n",
    "house = pd.read_csv(\"/Users/wxu/workspace/regression/week3/kc_house_data.csv\",sep=\",\",header= 0,dtype = dtype_dict)\n",
    "shuffle = pd.read_csv(\"/Users/wxu/workspace/regression/week4/wk3_kc_house_train_valid_shuffled.csv\",sep = \",\",header=0,dtype = dtype_dict)\n",
    "\n",
    "set1 = pd.read_csv(\"/Users/wxu/workspace/regression/week4/wk3_kc_house_set_1_data.csv\",sep=\",\",header=0,dtype = dtype_dict)\n",
    "set2 = pd.read_csv(\"/Users/wxu/workspace/regression/week4/wk3_kc_house_set_2_data.csv\",sep=\",\",header=0,dtype = dtype_dict)\n",
    "set3 = pd.read_csv(\"/Users/wxu/workspace/regression/week4/wk3_kc_house_set_3_data.csv\",sep=\",\",header=0,dtype = dtype_dict)\n",
    "set4 = pd.read_csv(\"/Users/wxu/workspace/regression/week4/wk3_kc_house_set_4_data.csv\",sep=\",\",header= 0,dtype = dtype_dict)"
   ]
  },
  {
   "cell_type": "code",
   "execution_count": null,
   "metadata": {
    "collapsed": true
   },
   "outputs": [],
   "source": [
    "house = house.sort_values([\"sqft_living\",\"price\"])"
   ]
  },
  {
   "cell_type": "code",
   "execution_count": 21,
   "metadata": {
    "collapsed": true
   },
   "outputs": [],
   "source": [
    "l2_small_penalty = 1.5e-5"
   ]
  },
  {
   "cell_type": "code",
   "execution_count": 15,
   "metadata": {
    "collapsed": true
   },
   "outputs": [],
   "source": [
    "def take_power(x,i):\n",
    "    poly = x**i\n",
    "    return poly\n",
    "def polynomial_dataframe(feature, degree): # feature is pandas.Series type\n",
    "    # assume that degree >= 1\n",
    "    # initialize the dataframe:\n",
    "    poly_dataframe = pd.DataFrame()\n",
    "    poly_dataframe[\"power_1\"] = feature\n",
    "    # and set poly_dataframe['power_1'] equal to the passed feature\n",
    "    \n",
    "    # first check if degree > 1\n",
    "    if degree > 1:\n",
    "        # then loop over the remaining degrees:\n",
    "        for power in range(2, degree+1):\n",
    "            # first we'll give the column a name:\n",
    "            name = 'power_' + str(power)\n",
    "            # assign poly_dataframe[name] to be feature^power; use apply(*)\n",
    "            poly_dataframe[name] = poly_dataframe['power_1'].apply(functools.partial(take_power,i=power))\n",
    "    return poly_dataframe"
   ]
  },
  {
   "cell_type": "code",
   "execution_count": 23,
   "metadata": {
    "collapsed": true
   },
   "outputs": [],
   "source": [
    "poly15_data = polynomial_dataframe(feature = house['sqft_living'],degree=15)"
   ]
  },
  {
   "cell_type": "code",
   "execution_count": 25,
   "metadata": {
    "collapsed": false
   },
   "outputs": [
    {
     "data": {
      "text/plain": [
       "array([  1.24873306e+02,  -4.77376011e-02,   3.01446238e-05,\n",
       "        -2.44419942e-09,  -1.94153675e-13,   8.54085685e-18,\n",
       "         1.51142121e-21,   8.27979093e-26,   6.52603100e-31,\n",
       "        -3.27895017e-34,  -3.87962315e-38,  -2.72437650e-42,\n",
       "        -1.07790800e-46,   3.78242694e-51,   1.39790296e-54])"
      ]
     },
     "execution_count": 25,
     "metadata": {},
     "output_type": "execute_result"
    }
   ],
   "source": [
    "#quiz1\n",
    "model = linear_model.Ridge(alpha = l2_small_penalty,normalize = True)\n",
    "model.fit(poly15_data,house[\"price\"]).coef_"
   ]
  },
  {
   "cell_type": "code",
   "execution_count": 26,
   "metadata": {
    "collapsed": true
   },
   "outputs": [],
   "source": [
    "#quiz2\n",
    "l2_small_penalty = 1e-9"
   ]
  },
  {
   "cell_type": "code",
   "execution_count": 27,
   "metadata": {
    "collapsed": false
   },
   "outputs": [
    {
     "data": {
      "text/plain": [
       "array([  5.44669402e+02,  -3.55447609e-01,   1.22446383e-04,\n",
       "        -1.17175319e-08,  -3.90512390e-13,  -1.39076337e-17,\n",
       "         1.47860303e-20,   6.87491766e-25,  -7.57203973e-29,\n",
       "        -1.04097309e-32,  -3.71844070e-37,   3.39989306e-41,\n",
       "         5.56592040e-45,   2.53761332e-49,  -3.35152892e-53])"
      ]
     },
     "execution_count": 27,
     "metadata": {},
     "output_type": "execute_result"
    }
   ],
   "source": [
    "poly15_set1 = polynomial_dataframe(set1[\"sqft_living\"],degree=15)\n",
    "model_set = linear_model.Ridge(alpha = l2_small_penalty,normalize = True)\n",
    "model_set.fit(poly15_set1,set1[\"price\"]).coef_"
   ]
  },
  {
   "cell_type": "code",
   "execution_count": 28,
   "metadata": {
    "collapsed": false
   },
   "outputs": [
    {
     "data": {
      "text/plain": [
       "array([  8.59362624e+02,  -8.18118245e-01,   4.28879962e-04,\n",
       "        -9.12770589e-08,  -2.69604559e-12,   3.73980323e-15,\n",
       "        -1.42711896e-19,  -6.30794739e-23,  -1.44559537e-27,\n",
       "         7.44321296e-31,   9.25865931e-35,   3.27992730e-41,\n",
       "        -1.29543491e-42,  -1.38781254e-46,   1.66546439e-50])"
      ]
     },
     "execution_count": 28,
     "metadata": {},
     "output_type": "execute_result"
    }
   ],
   "source": [
    "poly15_set2 = polynomial_dataframe(set2[\"sqft_living\"],degree=15)\n",
    "model_set.fit(poly15_set2,set2[\"price\"]).coef_"
   ]
  },
  {
   "cell_type": "code",
   "execution_count": 29,
   "metadata": {
    "collapsed": false
   },
   "outputs": [
    {
     "data": {
      "text/plain": [
       "array([ -7.55395885e+02,   9.75579448e-01,  -4.58945955e-04,\n",
       "         7.77957984e-08,   7.15013457e-12,  -2.88601959e-15,\n",
       "        -2.13678421e-20,   3.38085209e-23,   2.19178219e-27,\n",
       "        -1.97067724e-31,  -4.15993176e-35,  -1.80196277e-39,\n",
       "         3.19071179e-43,   5.08457003e-47,  -3.93304307e-51])"
      ]
     },
     "execution_count": 29,
     "metadata": {},
     "output_type": "execute_result"
    }
   ],
   "source": [
    "poly15_set3 = polynomial_dataframe(set3[\"sqft_living\"],degree=15)\n",
    "model_set.fit(poly15_set3,set3[\"price\"]).coef_"
   ]
  },
  {
   "cell_type": "code",
   "execution_count": 30,
   "metadata": {
    "collapsed": false
   },
   "outputs": [
    {
     "data": {
      "text/plain": [
       "array([  1.11944568e+03,  -9.83760160e-01,   3.38770856e-04,\n",
       "         3.60377368e-08,  -4.37814042e-11,   5.77191671e-15,\n",
       "         7.66795313e-19,  -9.49297702e-23,  -1.96030821e-26,\n",
       "        -2.10882629e-32,   3.31005080e-34,   3.47733894e-38,\n",
       "        -2.43039210e-42,  -8.79553427e-46,   6.44569758e-50])"
      ]
     },
     "execution_count": 30,
     "metadata": {},
     "output_type": "execute_result"
    }
   ],
   "source": [
    "poly15_set4 = polynomial_dataframe(set4[\"sqft_living\"],degree=15)\n",
    "model_set.fit(poly15_set4,set4[\"price\"]).coef_"
   ]
  },
  {
   "cell_type": "code",
   "execution_count": 31,
   "metadata": {
    "collapsed": false
   },
   "outputs": [
    {
     "name": "stdout",
     "output_type": "stream",
     "text": [
      "[  2.32806803e+00   3.53621608e-04   3.31969692e-08   2.00082477e-12\n",
      "   1.11492559e-16   6.57786122e-21   4.12939525e-25   2.70393755e-29\n",
      "   1.81614763e-33   1.23824277e-37   8.51872481e-42   5.89455598e-46\n",
      "   4.09542560e-50   2.85464889e-54   1.99547476e-58]\n",
      "[  2.09756903e+00   3.90817483e-04   6.67189944e-08   8.90002997e-12\n",
      "   9.72639877e-16   9.69733682e-20   9.50564475e-24   9.44491031e-28\n",
      "   9.57191338e-32   9.86945155e-36   1.03101115e-39   1.08729784e-43\n",
      "   1.15453748e-47   1.23211305e-51   1.31986696e-55]\n",
      "[  2.28906258e+00   4.12472190e-04   6.08835345e-08   6.58572163e-12\n",
      "   6.15278155e-16   5.64446634e-20   5.28834396e-24   5.07091402e-28\n",
      "   4.94657273e-32   4.88043809e-36   4.85009106e-40   4.84161534e-44\n",
      "   4.84635021e-48   4.85883628e-52   4.87558469e-56]\n",
      "[  2.08596194e+00   4.05035772e-04   7.46864647e-08   1.13096608e-11\n",
      "   1.45864442e-15   1.73561251e-19   2.01609632e-23   2.34605255e-27\n",
      "   2.75636073e-31   3.27043069e-35   3.91046855e-39   4.70118041e-43\n",
      "   5.67212304e-47   6.85958087e-51   8.30843630e-55]\n"
     ]
    }
   ],
   "source": [
    "#quiz3\n",
    "l2_small_penalty = 1.23e2\n",
    "model_set = linear_model.Ridge(alpha = l2_small_penalty,normalize = True)\n",
    "print model_set.fit(poly15_set1,set1[\"price\"]).coef_\n",
    "print model_set.fit(poly15_set2,set2[\"price\"]).coef_\n",
    "print model_set.fit(poly15_set3,set3[\"price\"]).coef_\n",
    "print model_set.fit(poly15_set4,set4[\"price\"]).coef_"
   ]
  },
  {
   "cell_type": "code",
   "execution_count": 38,
   "metadata": {
    "collapsed": false
   },
   "outputs": [
    {
     "name": "stdout",
     "output_type": "stream",
     "text": [
      "0 (0, 1938)\n",
      "1 (1939, 3878)\n",
      "2 (3879, 5817)\n",
      "3 (5818, 7757)\n",
      "4 (7758, 9697)\n",
      "5 (9698, 11636)\n",
      "6 (11637, 13576)\n",
      "7 (13577, 15515)\n",
      "8 (15516, 17455)\n",
      "9 (17456, 19395)\n"
     ]
    }
   ],
   "source": [
    "n=len(shuffle)\n",
    "k = 10\n",
    "\n",
    "for i in xrange(k):\n",
    "    start = n*i/k\n",
    "    end = n*(i+1)/k-1\n",
    "    print i ,(start,end)"
   ]
  },
  {
   "cell_type": "code",
   "execution_count": 52,
   "metadata": {
    "collapsed": true
   },
   "outputs": [],
   "source": [
    "#quiz4\n",
    "def k_fold_cv(k,l2_penalty,data):\n",
    "    n = len(data)\n",
    "    my_model = linear_model.Ridge(alpha = l2_penalty,normalize=True)\n",
    "    validError = [0]*k\n",
    "    for i in xrange(k):\n",
    "        start = n*i/k\n",
    "        end = n*(i+1)/k\n",
    "        curr_train = data[0:start].append(data[end:])\n",
    "        curr_test = data[start:end]\n",
    "        curr_train_x = polynomial_dataframe(curr_train[\"sqft_living\"],degree=15)\n",
    "        curr_train_y = curr_train[\"price\"]\n",
    "        curr_test_x = polynomial_dataframe(curr_test[\"sqft_living\"],degree=15)\n",
    "        curr_test_y = curr_test[\"price\"]\n",
    "        curr_fit = my_model.fit(curr_train_x,curr_train_y)\n",
    "        validError[i] = np.mean((curr_fit.predict(curr_test_x) - curr_test_y) ** 2)\n",
    "    return(np.mean(validError))"
   ]
  },
  {
   "cell_type": "code",
   "execution_count": 56,
   "metadata": {
    "collapsed": true
   },
   "outputs": [],
   "source": [
    "select_penalty = [0]*13\n",
    "penalty_candidate = np.logspace(3, 9, num=13)\n",
    "for i in xrange(13):\n",
    "    penalty = penalty_candidate[i]\n",
    "    select_penalty[i] = k_fold_cv(k=10,l2_penalty=penalty,data=shuffle)"
   ]
  },
  {
   "cell_type": "code",
   "execution_count": 57,
   "metadata": {
    "collapsed": false
   },
   "outputs": [
    {
     "data": {
      "text/plain": [
       "[136613879006.23738,\n",
       " 136982822044.29903,\n",
       " 137102147097.9985,\n",
       " 137140152752.4749,\n",
       " 137152198573.22214,\n",
       " 137156010540.37373,\n",
       " 137157216264.85027,\n",
       " 137157597575.87614,\n",
       " 137157718159.75717,\n",
       " 137157756292.00314,\n",
       " 137157768350.50558,\n",
       " 137157772163.7415,\n",
       " 137157773369.59306]"
      ]
     },
     "execution_count": 57,
     "metadata": {},
     "output_type": "execute_result"
    }
   ],
   "source": [
    "select_penalty"
   ]
  },
  {
   "cell_type": "code",
   "execution_count": 58,
   "metadata": {
    "collapsed": false
   },
   "outputs": [
    {
     "name": "stdout",
     "output_type": "stream",
     "text": [
      "2.83756877068e+14\n"
     ]
    }
   ],
   "source": [
    "final_model_x = polynomial_dataframe(train[\"sqft_living\"],degree=15)\n",
    "final_model_y = train[\"price\"]\n",
    "final_model = linear_model.Ridge(alpha = 1000,normalize=True).fit(final_model_x,final_model_y)\n",
    "whole_test_x = polynomial_dataframe(test[\"sqft_living\"],degree=15)\n",
    "whole_test_y = test[\"price\"]\n",
    "final_rss = sum((final_model.predict(whole_test_x)-whole_test_y)**2)\n",
    "print final_rss"
   ]
  }
 ],
 "metadata": {
  "kernelspec": {
   "display_name": "Python 2",
   "language": "python",
   "name": "python2"
  },
  "language_info": {
   "codemirror_mode": {
    "name": "ipython",
    "version": 2
   },
   "file_extension": ".py",
   "mimetype": "text/x-python",
   "name": "python",
   "nbconvert_exporter": "python",
   "pygments_lexer": "ipython2",
   "version": "2.7.11"
  }
 },
 "nbformat": 4,
 "nbformat_minor": 0
}

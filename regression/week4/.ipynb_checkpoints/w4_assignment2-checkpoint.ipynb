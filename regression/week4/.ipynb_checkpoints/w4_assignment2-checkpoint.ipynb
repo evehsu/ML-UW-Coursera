{
 "cells": [
  {
   "cell_type": "code",
   "execution_count": 1,
   "metadata": {
    "collapsed": true
   },
   "outputs": [],
   "source": [
    "import pandas as pd\n",
    "import numpy as np\n",
    "import math\n",
    "from sklearn import linear_model\n",
    "import functools"
   ]
  },
  {
   "cell_type": "code",
   "execution_count": 2,
   "metadata": {
    "collapsed": true
   },
   "outputs": [],
   "source": [
    "dtype_dict = {'bathrooms':float, 'waterfront':int, 'sqft_above':int, 'sqft_living15':float, 'grade':int, \n",
    "              'yr_renovated':int, 'price':float, 'bedrooms':float, 'zipcode':str, 'long':float, 'sqft_lot15':float, \n",
    "              'sqft_living':float, 'floors':str, 'condition':int, 'lat':float, 'date':str, 'sqft_basement':int, 'yr_built':int, \n",
    "              'id':str, 'sqft_lot':int, 'view':int}"
   ]
  },
  {
   "cell_type": "code",
   "execution_count": 3,
   "metadata": {
    "collapsed": true
   },
   "outputs": [],
   "source": [
    "train = pd.read_csv(\"/Users/wxu/workspace/regression/week4/kc_house_train_data.csv\",sep=\",\",header=0,dtype = dtype_dict)\n",
    "test = pd.read_csv(\"/Users/wxu/workspace/regression/week4/kc_house_test_data.csv\",sep=\",\",header=0,dtype = dtype_dict)\n",
    "house = pd.read_csv(\"/Users/wxu/workspace/regression/week4/kc_house_data.csv\",sep=\",\",header= 0,dtype = dtype_dict)"
   ]
  },
  {
   "cell_type": "code",
   "execution_count": 5,
   "metadata": {
    "collapsed": true
   },
   "outputs": [],
   "source": [
    "def get_numpy_data(dataframe, features, output):\n",
    "    \n",
    "    dataframe['constant']=1\n",
    "    features = ['constant'] + features\n",
    "    features_matrix = dataframe[features].as_matrix()\n",
    "    output_array = dataframe.as_matrix([output])\n",
    "    \n",
    "    return (features_matrix, output_array)"
   ]
  },
  {
   "cell_type": "code",
   "execution_count": 7,
   "metadata": {
    "collapsed": true
   },
   "outputs": [],
   "source": [
    "def predict_outcome(feature_matrix,weights):\n",
    "    predictions = np.dot(feature_matrix,weights)\n",
    "    return(predictions)"
   ]
  },
  {
   "cell_type": "code",
   "execution_count": 13,
   "metadata": {
    "collapsed": false
   },
   "outputs": [],
   "source": [
    "def feature_derivative_ridge(error, feature,curr_weight,l2_penalty=0):\n",
    "    derivative = 2*sum(error*feature)+2*l2_penalty*curr_weight\n",
    "    return(derivative)"
   ]
  },
  {
   "cell_type": "code",
   "execution_count": 14,
   "metadata": {
    "collapsed": false
   },
   "outputs": [],
   "source": [
    "def regression_gradient_descent_ridge(feature_matrix, output, initial_weights, step_size, tolerance,l2Penalty,max_iterations=100):\n",
    "    converged = False\n",
    "    curr_weights = np.array(initial_weights)\n",
    "    times=0\n",
    "    while not converged:\n",
    "        \n",
    "        predictions = predict_outcome(feature_matrix,curr_weights)\n",
    "        error = predictions-output\n",
    "        \n",
    "        gradient_sum_squares = 0\n",
    "        \n",
    "        for i in range(len(curr_weights)):\n",
    "            ith_feature = feature_matrix[:,i]\n",
    "            ith_feature.shape = (len(ith_feature),1)\n",
    "            if i==0:\n",
    "                ith_derivative = feature_derivative(error,ith_feature,curr_weights[i],l2_penalty=0)\n",
    "            else:\n",
    "                ith_derivative = feature_derivative(error,ith_feature,curr_weights[i],l2_penalty=l2Penalty)\n",
    "            \n",
    "            gradient_sum_squares = gradient_sum_squares+ith_derivative**2\n",
    "            curr_weights[i] = curr_weights[i]-step_size*ith_derivative\n",
    "        \n",
    "        gradient_magnitude = math.sqrt(gradient_sum_squares)\n",
    "        if gradient_magnitude < tolerance or times>=max_iterations :\n",
    "            converged = True\n",
    "        times +=1\n",
    "    return(curr_weights)"
   ]
  }
 ],
 "metadata": {
  "kernelspec": {
   "display_name": "Python 2",
   "language": "python",
   "name": "python2"
  },
  "language_info": {
   "codemirror_mode": {
    "name": "ipython",
    "version": 2
   },
   "file_extension": ".py",
   "mimetype": "text/x-python",
   "name": "python",
   "nbconvert_exporter": "python",
   "pygments_lexer": "ipython2",
   "version": "2.7.11"
  }
 },
 "nbformat": 4,
 "nbformat_minor": 0
}

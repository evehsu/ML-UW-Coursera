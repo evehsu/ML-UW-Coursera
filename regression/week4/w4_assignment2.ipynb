{
 "cells": [
  {
   "cell_type": "code",
   "execution_count": 1,
   "metadata": {
    "collapsed": true
   },
   "outputs": [],
   "source": [
    "import pandas as pd\n",
    "import numpy as np\n",
    "import math\n",
    "from sklearn import linear_model\n",
    "import functools"
   ]
  },
  {
   "cell_type": "code",
   "execution_count": 2,
   "metadata": {
    "collapsed": true
   },
   "outputs": [],
   "source": [
    "dtype_dict = {'bathrooms':float, 'waterfront':int, 'sqft_above':int, 'sqft_living15':float, 'grade':int, \n",
    "              'yr_renovated':int, 'price':float, 'bedrooms':float, 'zipcode':str, 'long':float, 'sqft_lot15':float, \n",
    "              'sqft_living':float, 'floors':str, 'condition':int, 'lat':float, 'date':str, 'sqft_basement':int, 'yr_built':int, \n",
    "              'id':str, 'sqft_lot':int, 'view':int}"
   ]
  },
  {
   "cell_type": "code",
   "execution_count": 3,
   "metadata": {
    "collapsed": true
   },
   "outputs": [],
   "source": [
    "train = pd.read_csv(\"/Users/wxu/workspace/regression/week4/kc_house_train_data.csv\",sep=\",\",header=0,dtype = dtype_dict)\n",
    "test = pd.read_csv(\"/Users/wxu/workspace/regression/week4/kc_house_test_data.csv\",sep=\",\",header=0,dtype = dtype_dict)\n",
    "house = pd.read_csv(\"/Users/wxu/workspace/regression/week4/kc_house_data.csv\",sep=\",\",header= 0,dtype = dtype_dict)"
   ]
  },
  {
   "cell_type": "code",
   "execution_count": 5,
   "metadata": {
    "collapsed": true
   },
   "outputs": [],
   "source": [
    "def get_numpy_data(dataframe, features, output):\n",
    "    \n",
    "    dataframe['constant']=1\n",
    "    features = ['constant'] + features\n",
    "    features_matrix = dataframe[features].as_matrix()\n",
    "    output_array = dataframe.as_matrix([output])\n",
    "    \n",
    "    return (features_matrix, output_array)"
   ]
  },
  {
   "cell_type": "code",
   "execution_count": 7,
   "metadata": {
    "collapsed": true
   },
   "outputs": [],
   "source": [
    "def predict_outcome(feature_matrix,weights):\n",
    "    predictions = np.dot(feature_matrix,weights)\n",
    "    return(predictions)"
   ]
  },
  {
   "cell_type": "code",
   "execution_count": 30,
   "metadata": {
    "collapsed": false
   },
   "outputs": [],
   "source": [
    "def feature_derivative_ridge(error, feature,curr_weight,l2_penalty,isConstant):\n",
    "    if isConstant:\n",
    "        derivative = 2*sum(error*feature)\n",
    "    else:\n",
    "        derivative = 2*sum(error*feature)+2*l2_penalty*curr_weight\n",
    "    return(derivative)"
   ]
  },
  {
   "cell_type": "code",
   "execution_count": 31,
   "metadata": {
    "collapsed": false
   },
   "outputs": [],
   "source": [
    "def regression_gradient_descent_ridge(feature_matrix, output, initial_weights, step_size,l2Penalty,max_iterations=100):\n",
    "    converged = False\n",
    "    curr_weights = np.array(initial_weights)\n",
    "    times=0\n",
    "    while not converged:\n",
    "        \n",
    "        predictions = predict_outcome(feature_matrix,curr_weights)\n",
    "        error = predictions-output\n",
    "        \n",
    "        gradient_sum_squares = 0\n",
    "        \n",
    "        for i in range(len(curr_weights)):\n",
    "            ith_feature = feature_matrix[:,i]\n",
    "            ith_feature.shape = (len(ith_feature),1)\n",
    "            if i==0:\n",
    "                ith_derivative = feature_derivative_ridge(error,ith_feature,curr_weights[i],l2_penalty=l2Penalty,isConstant=True)\n",
    "            else:\n",
    "                ith_derivative = feature_derivative_ridge(error,ith_feature,curr_weights[i],l2_penalty=l2Penalty,isConstant=False)\n",
    "            \n",
    "            gradient_sum_squares = gradient_sum_squares+ith_derivative**2\n",
    "            curr_weights[i] = curr_weights[i]-step_size*ith_derivative\n",
    "        \n",
    "        gradient_magnitude = math.sqrt(gradient_sum_squares)\n",
    "        if times>=max_iterations :\n",
    "            converged = True\n",
    "        times += 1\n",
    "    return(curr_weights)"
   ]
  },
  {
   "cell_type": "code",
   "execution_count": 15,
   "metadata": {
    "collapsed": true
   },
   "outputs": [],
   "source": [
    "simple_features = ['sqft_living']\n",
    "my_output = 'price'\n",
    "(simple_feature_matrix, output) = get_numpy_data(train, simple_features, my_output)\n",
    "(simple_test_feature_matrix, test_output) = get_numpy_data(test, simple_features, my_output)"
   ]
  },
  {
   "cell_type": "code",
   "execution_count": 38,
   "metadata": {
    "collapsed": false
   },
   "outputs": [],
   "source": [
    "simple_weights_0_penalty = regression_gradient_descent_ridge(feature_matrix=simple_feature_matrix, output=output,\n",
    "                                                             initial_weights=[[0.0],[0.0]], \n",
    "                                                             step_size=1e-12, l2Penalty=0.0,max_iterations=1000)"
   ]
  },
  {
   "cell_type": "code",
   "execution_count": 39,
   "metadata": {
    "collapsed": false
   },
   "outputs": [
    {
     "data": {
      "text/plain": [
       "array([[ -1.63382329e-01],\n",
       "       [  2.63024369e+02]])"
      ]
     },
     "execution_count": 39,
     "metadata": {},
     "output_type": "execute_result"
    }
   ],
   "source": [
    "simple_weights_0_penalty"
   ]
  },
  {
   "cell_type": "code",
   "execution_count": 40,
   "metadata": {
    "collapsed": true
   },
   "outputs": [],
   "source": [
    "simple_weights_high_penalty = regression_gradient_descent_ridge(feature_matrix=simple_feature_matrix, output=output,\n",
    "                                                             initial_weights=[[0.0],[0.0]], \n",
    "                                                             step_size=1e-12, l2Penalty=1e11,max_iterations=1000)"
   ]
  },
  {
   "cell_type": "code",
   "execution_count": 41,
   "metadata": {
    "collapsed": false
   },
   "outputs": [
    {
     "data": {
      "text/plain": [
       "array([[   9.77704731],\n",
       "       [ 124.57217382]])"
      ]
     },
     "execution_count": 41,
     "metadata": {},
     "output_type": "execute_result"
    }
   ],
   "source": [
    "simple_weights_high_penalty"
   ]
  },
  {
   "cell_type": "code",
   "execution_count": 45,
   "metadata": {
    "collapsed": false
   },
   "outputs": [],
   "source": [
    "import matplotlib.pyplot as plt\n",
    "%matplotlib inline"
   ]
  },
  {
   "cell_type": "code",
   "execution_count": 46,
   "metadata": {
    "collapsed": false
   },
   "outputs": [
    {
     "data": {
      "text/plain": [
       "[<matplotlib.lines.Line2D at 0x11b7c94d0>,\n",
       " <matplotlib.lines.Line2D at 0x11b7c95d0>,\n",
       " <matplotlib.lines.Line2D at 0x11b7c9790>,\n",
       " <matplotlib.lines.Line2D at 0x11b7d4390>,\n",
       " <matplotlib.lines.Line2D at 0x11b7d44d0>,\n",
       " <matplotlib.lines.Line2D at 0x11b7e2050>]"
      ]
     },
     "execution_count": 46,
     "metadata": {},
     "output_type": "execute_result"
    },
    {
     "data": {
      "image/png": "[encoded data removed]",
      "text/plain": [
       "<matplotlib.figure.Figure at 0x11c0eecd0>"
      ]
     },
     "metadata": {},
     "output_type": "display_data"
    }
   ],
   "source": [
    "plt.plot(simple_feature_matrix,output,'k.',\n",
    "        simple_feature_matrix,predict_outcome(simple_feature_matrix, simple_weights_0_penalty),'b-',\n",
    "        simple_feature_matrix,predict_outcome(simple_feature_matrix, simple_weights_high_penalty),'r-')"
   ]
  },
  {
   "cell_type": "code",
   "execution_count": 61,
   "metadata": {
    "collapsed": false
   },
   "outputs": [
    {
     "name": "stdout",
     "output_type": "stream",
     "text": [
      "[  1.78427329e+15]\n",
      "[  2.75723632e+14]\n",
      "[  6.94642089e+14]\n"
     ]
    }
   ],
   "source": [
    "# initial weight 0\n",
    "print sum((test_output-predict_outcome(simple_test_feature_matrix,weights=[[0.0],[0.0]]))**2)\n",
    "# weight small l2 penalty\n",
    "print sum((test_output-predict_outcome(simple_test_feature_matrix,weights=simple_weights_0_penalty))**2)\n",
    "# weight large l2 penalty\n",
    "print sum((test_output-predict_outcome(simple_test_feature_matrix,weights=simple_weights_high_penalty))**2)"
   ]
  },
  {
   "cell_type": "code",
   "execution_count": 52,
   "metadata": {
    "collapsed": false
   },
   "outputs": [],
   "source": [
    "model_features = ['sqft_living', 'sqft_living15']\n",
    "my_output = 'price'\n",
    "(feature_matrix, output) = get_numpy_data(train, model_features, my_output)\n",
    "(test_feature_matrix, test_output) = get_numpy_data(test, model_features, my_output)"
   ]
  },
  {
   "cell_type": "code",
   "execution_count": 54,
   "metadata": {
    "collapsed": false
   },
   "outputs": [],
   "source": [
    "multiple_weights_0_penalty = regression_gradient_descent_ridge(feature_matrix=feature_matrix, output=output,\n",
    "                                                             initial_weights=[[0.0],[0.0],[0.0]], \n",
    "                                                             step_size=1e-12, l2Penalty=0.0,max_iterations=1000)"
   ]
  },
  {
   "cell_type": "code",
   "execution_count": 55,
   "metadata": {
    "collapsed": false
   },
   "outputs": [
    {
     "data": {
      "text/plain": [
       "array([[  -0.35780714],\n",
       "       [ 243.05572642],\n",
       "       [  22.41312485]])"
      ]
     },
     "execution_count": 55,
     "metadata": {},
     "output_type": "execute_result"
    }
   ],
   "source": [
    "multiple_weights_0_penalty"
   ]
  },
  {
   "cell_type": "code",
   "execution_count": 56,
   "metadata": {
    "collapsed": true
   },
   "outputs": [],
   "source": [
    "multiple_weights_high_penalty = regression_gradient_descent_ridge(feature_matrix=feature_matrix, output=output,\n",
    "                                                             initial_weights=[[0.0],[0.0],[0.0]], \n",
    "                                                             step_size=1e-12, l2Penalty=1e11,max_iterations=1000)"
   ]
  },
  {
   "cell_type": "code",
   "execution_count": 58,
   "metadata": {
    "collapsed": false
   },
   "outputs": [
    {
     "data": {
      "text/plain": [
       "array([[  6.74968592],\n",
       "       [ 91.48927275],\n",
       "       [ 78.43658676]])"
      ]
     },
     "execution_count": 58,
     "metadata": {},
     "output_type": "execute_result"
    }
   ],
   "source": [
    "multiple_weights_high_penalty"
   ]
  },
  {
   "cell_type": "code",
   "execution_count": 62,
   "metadata": {
    "collapsed": false
   },
   "outputs": [
    {
     "name": "stdout",
     "output_type": "stream",
     "text": [
      "[  1.78427329e+15]\n",
      "[  2.74067692e+14]\n",
      "[  5.00404797e+14]\n"
     ]
    }
   ],
   "source": [
    "# initial weight 0\n",
    "print sum((test_output-predict_outcome(test_feature_matrix,weights=[[0.0],[0.0],[0.0]]))**2)\n",
    "# weight small l2 penalty\n",
    "print sum((test_output-predict_outcome(test_feature_matrix,weights=multiple_weights_0_penalty))**2)\n",
    "# weight large l2 penalty\n",
    "print sum((test_output-predict_outcome(test_feature_matrix,weights=multiple_weights_high_penalty))**2)"
   ]
  },
  {
   "cell_type": "code",
   "execution_count": 60,
   "metadata": {
    "collapsed": false
   },
   "outputs": [
    {
     "name": "stdout",
     "output_type": "stream",
     "text": [
      "[-77464.6932133] [ 39546.46585319]\n"
     ]
    }
   ],
   "source": [
    "error1 = test_output-predict_outcome(test_feature_matrix,weights=multiple_weights_0_penalty)\n",
    "error2 = test_output-predict_outcome(test_feature_matrix,weights=multiple_weights_high_penalty)\n",
    "print error1[0],error2[0]"
   ]
  }
 ],
 "metadata": {
  "kernelspec": {
   "display_name": "Python 2",
   "language": "python",
   "name": "python2"
  },
  "language_info": {
   "codemirror_mode": {
    "name": "ipython",
    "version": 2
   },
   "file_extension": ".py",
   "mimetype": "text/x-python",
   "name": "python",
   "nbconvert_exporter": "python",
   "pygments_lexer": "ipython2",
   "version": "2.7.11"
  }
 },
 "nbformat": 4,
 "nbformat_minor": 0
}

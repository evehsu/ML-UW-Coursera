{
 "cells": [
  {
   "cell_type": "code",
   "execution_count": 1,
   "metadata": {
    "collapsed": true
   },
   "outputs": [],
   "source": [
    "import pandas as pd\n",
    "import numpy as np\n",
    "from sklearn import linear_model\n",
    "import math"
   ]
  },
  {
   "cell_type": "code",
   "execution_count": 2,
   "metadata": {
    "collapsed": true
   },
   "outputs": [],
   "source": [
    "dtype_dict = {'bathrooms':float, 'waterfront':int, 'sqft_above':int, 'sqft_living15':float, 'grade':int, \n",
    "              'yr_renovated':int, 'price':float, 'bedrooms':float, 'zipcode':str, 'long':float, 'sqft_lot15':float,\n",
    "              'sqft_living':float, 'floors':str, 'condition':int, 'lat':float, 'date':str, 'sqft_basement':int, \n",
    "              'yr_built':int, 'id':str, 'sqft_lot':int, 'view':int}"
   ]
  },
  {
   "cell_type": "code",
   "execution_count": 3,
   "metadata": {
    "collapsed": false
   },
   "outputs": [],
   "source": [
    "housePrice = pd.read_csv(\"/Users/wxu/workspace/regression/kc_house_data.csv\",sep=\",\",header=0,dtype = dtype_dict)\n",
    "housePrice_train = pd.read_csv(\"/Users/wxu/workspace/regression/kc_house_train_data.csv\",sep=\",\",header=0,dtype = dtype_dict)\n",
    "housePrice_test = pd.read_csv(\"/Users/wxu/workspace/regression/kc_house_test_data.csv\",sep=\",\",header=0,dtype = dtype_dict)"
   ]
  },
  {
   "cell_type": "code",
   "execution_count": 4,
   "metadata": {
    "collapsed": true
   },
   "outputs": [],
   "source": [
    "input_sqft = housePrice_train[\"sqft_living\"]\n",
    "input_bedroom = housePrice_train[\"bedrooms\"]\n",
    "output_y = housePrice_train[\"price\"]\n",
    "input_sqft_test = housePrice_test[\"sqft_living\"]\n",
    "input_bedroom_test = housePrice_test[\"bedrooms\"]\n",
    "output_y_test = housePrice_test[\"price\"]"
   ]
  },
  {
   "cell_type": "code",
   "execution_count": 14,
   "metadata": {
    "collapsed": false
   },
   "outputs": [],
   "source": [
    "def simple_regression(input_feature,output):\n",
    "    # input_feature: the single predictor\n",
    "    # output_feature: y/target/lable\n",
    "    # return the slope and intercept\n",
    "    \n",
    "    assert (len(input_feature) == len(output)),\"length different between predictor and target\"\n",
    "    \n",
    "    x_mean  = np.mean(input_feature)\n",
    "    y_mean = np.mean(output)\n",
    "    xy_mean = np.mean(map(lambda x,y:x*y,input_feature,output))\n",
    "    xSquare_mean = np.mean(map(lambda x:x**2,input_feature))\n",
    "    \n",
    "    slope = (xy_mean-x_mean*y_mean)/(xSquare_mean -x_mean*x_mean)\n",
    "    intercept = y_mean-slope*x_mean\n",
    "    \n",
    "    return slope,intercept"
   ]
  },
  {
   "cell_type": "code",
   "execution_count": 6,
   "metadata": {
    "collapsed": true
   },
   "outputs": [],
   "source": [
    "def get_regression_prediction(input_feature,intercept,slope):\n",
    "    output = slope*input_feature+intercept\n",
    "    return output"
   ]
  },
  {
   "cell_type": "code",
   "execution_count": 11,
   "metadata": {
    "collapsed": true
   },
   "outputs": [],
   "source": [
    "def get_RSS(input_feature,output,intercept,slope):\n",
    "    predict = map(lambda x: x*slope,input_feature)\n",
    "    predict = map(lambda x: x+intercept,predict)\n",
    "    rssList = map(lambda x,y: x-y,predict,output)\n",
    "    rss = sum(map(lambda x: x**2,rssList))\n",
    "    return rss"
   ]
  },
  {
   "cell_type": "code",
   "execution_count": 12,
   "metadata": {
    "collapsed": true
   },
   "outputs": [],
   "source": [
    "def inverse_regression_predictions(output,intercept,slope):\n",
    "    estimate_input = (output-intercept)/slope\n",
    "    return estimate_input"
   ]
  },
  {
   "cell_type": "code",
   "execution_count": 15,
   "metadata": {
    "collapsed": false
   },
   "outputs": [
    {
     "name": "stdout",
     "output_type": "stream",
     "text": [
      "700074.845948\n"
     ]
    }
   ],
   "source": [
    "#quiz1\n",
    "sqftSlope,sqftIntercept = simple_regression(input_sqft,output_y)\n",
    "predPrice2650 = get_regression_prediction(2650,sqftIntercept,sqftSlope)\n",
    "print predPrice2650"
   ]
  },
  {
   "cell_type": "code",
   "execution_count": 16,
   "metadata": {
    "collapsed": false
   },
   "outputs": [],
   "source": [
    "#quiz2\n",
    "rss = get_RSS(input_sqft,output_y,sqftIntercept,sqftSlope)"
   ]
  },
  {
   "cell_type": "code",
   "execution_count": 17,
   "metadata": {
    "collapsed": false
   },
   "outputs": [
    {
     "data": {
      "text/plain": [
       "1201918354177285.2"
      ]
     },
     "execution_count": 17,
     "metadata": {},
     "output_type": "execute_result"
    }
   ],
   "source": [
    "rss"
   ]
  },
  {
   "cell_type": "code",
   "execution_count": 18,
   "metadata": {
    "collapsed": false
   },
   "outputs": [
    {
     "name": "stdout",
     "output_type": "stream",
     "text": [
      "3004.39624515\n"
     ]
    }
   ],
   "source": [
    "#quiz3\n",
    "estimate_sqft = inverse_regression_predictions(800000,sqftIntercept,sqftSlope)\n",
    "print estimate_sqft\n"
   ]
  },
  {
   "cell_type": "code",
   "execution_count": 19,
   "metadata": {
    "collapsed": false
   },
   "outputs": [
    {
     "name": "stdout",
     "output_type": "stream",
     "text": [
      "2.75402933618e+14 4.9336458596e+14\n"
     ]
    }
   ],
   "source": [
    "#quiz4\n",
    "bdrSlope,bdrIntercept = simple_regression(input_bedroom,output_y)\n",
    "rssSqft = get_RSS(input_sqft_test,output_y_test,sqftIntercept,sqftSlope)\n",
    "rssBedroom  = get_RSS(input_bedroom_test,output_y_test,bdrIntercept,bdrSlope)\n",
    "print rssSqft,rssBedroom"
   ]
  },
  {
   "cell_type": "code",
   "execution_count": null,
   "metadata": {
    "collapsed": true
   },
   "outputs": [],
   "source": []
  }
 ],
 "metadata": {
  "kernelspec": {
   "display_name": "Python 2",
   "language": "python",
   "name": "python2"
  },
  "language_info": {
   "codemirror_mode": {
    "name": "ipython",
    "version": 2
   },
   "file_extension": ".py",
   "mimetype": "text/x-python",
   "name": "python",
   "nbconvert_exporter": "python",
   "pygments_lexer": "ipython2",
   "version": "2.7.11"
  }
 },
 "nbformat": 4,
 "nbformat_minor": 0
}

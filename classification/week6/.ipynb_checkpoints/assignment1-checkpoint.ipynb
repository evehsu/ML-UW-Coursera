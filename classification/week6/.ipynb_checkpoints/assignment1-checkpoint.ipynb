{
 "cells": [
  {
   "cell_type": "code",
   "execution_count": 48,
   "metadata": {
    "collapsed": false
   },
   "outputs": [
    {
     "name": "stderr",
     "output_type": "stream",
     "text": [
      "/Users/wxu/anaconda/lib/python2.7/site-packages/matplotlib/font_manager.py:273: UserWarning: Matplotlib is building the font cache using fc-list. This may take a moment.\n",
      "  warnings.warn('Matplotlib is building the font cache using fc-list. This may take a moment.')\n"
     ]
    }
   ],
   "source": [
    "import pandas as pd\n",
    "import numpy as np\n",
    "#import sframe\n",
    "import sklearn\n",
    "from sklearn.feature_extraction.text import CountVectorizer\n",
    "from sklearn import linear_model\n",
    "import functools\n",
    "import json\n",
    "import matplotlib.pyplot as plt"
   ]
  },
  {
   "cell_type": "code",
   "execution_count": 2,
   "metadata": {
    "collapsed": true
   },
   "outputs": [],
   "source": [
    "product_pd = pd.read_csv(\"/Users/wxu/workspace/ML-UW-Coursera/classification/week1/amazon_baby.csv\",header=0)"
   ]
  },
  {
   "cell_type": "code",
   "execution_count": 3,
   "metadata": {
    "collapsed": true
   },
   "outputs": [],
   "source": [
    "def remove_punctuation(text):\n",
    "    import string\n",
    "    return text.translate(None, string.punctuation) \n"
   ]
  },
  {
   "cell_type": "code",
   "execution_count": 58,
   "metadata": {
    "collapsed": false
   },
   "outputs": [],
   "source": [
    "product_pd = product_pd.fillna({\"review\":''})\n",
    "product_pd = product_pd.fillna({\"name\":''})\n",
    "product_pd[\"review_clean\"] = product_pd[\"review\"].apply(remove_punctuation)\n",
    "product_pd = product_pd[product_pd['rating'] != 3]\n",
    "product_pd['sentiment'] = product_pd['rating'].apply(lambda rating: +1 if rating>3 else -1)"
   ]
  },
  {
   "cell_type": "code",
   "execution_count": 59,
   "metadata": {
    "collapsed": true
   },
   "outputs": [],
   "source": [
    "with open(\"/Users/wxu/workspace/ML-UW-Coursera/classification/week6/train.json\") as myjson:\n",
    "    for line in myjson:\n",
    "        trainIdx = json.loads(line)\n",
    "with open(\"/Users/wxu/workspace/ML-UW-Coursera/classification/week6/test.json\") as myjson:\n",
    "    for line in myjson:\n",
    "        testIdx = json.loads(line)\n",
    "train = product_pd.iloc[trainIdx]\n",
    "test = product_pd.iloc[testIdx]"
   ]
  },
  {
   "cell_type": "code",
   "execution_count": 10,
   "metadata": {
    "collapsed": true
   },
   "outputs": [],
   "source": [
    "train = train.reset_index(range(len(train))).drop(\"index\",axis=1)\n",
    "test = test.reset_index(range(len(train))).drop(\"index\",axis=1)\n",
    "vectorizer = CountVectorizer(token_pattern=r'\\b\\w+\\b')\n",
    "train_matrix = vectorizer.fit_transform(train['review_clean'])\n",
    "test_matrix = vectorizer.transform(test['review_clean'])"
   ]
  },
  {
   "cell_type": "code",
   "execution_count": 11,
   "metadata": {
    "collapsed": true
   },
   "outputs": [],
   "source": [
    "logitRgrssn = sklearn.linear_model.LogisticRegression()\n",
    "sentimentModel = logitRgrssn.fit(train_matrix,train['sentiment'])"
   ]
  },
  {
   "cell_type": "code",
   "execution_count": 13,
   "metadata": {
    "collapsed": false
   },
   "outputs": [
    {
     "name": "stdout",
     "output_type": "stream",
     "text": [
      "Test Accuracy: 0.932235421166\n"
     ]
    }
   ],
   "source": [
    "from sklearn.metrics import accuracy_score\n",
    "accuracy = accuracy_score(y_true=test['sentiment'].as_matrix(), y_pred=sentimentModel.predict(test_matrix))\n",
    "print \"Test Accuracy: %s\" % accuracy"
   ]
  },
  {
   "cell_type": "code",
   "execution_count": 14,
   "metadata": {
    "collapsed": false
   },
   "outputs": [
    {
     "name": "stdout",
     "output_type": "stream",
     "text": [
      " target_label | predicted_label | count \n",
      "--------------+-----------------+-------\n",
      "     -1       |       -1        |  3786\n",
      "     -1       |        1        |  1455\n",
      "      1       |       -1        |   804\n",
      "      1       |        1        | 27291\n"
     ]
    }
   ],
   "source": [
    "from sklearn.metrics import confusion_matrix\n",
    "cmat = confusion_matrix(y_true=test['sentiment'].as_matrix(),\n",
    "                        y_pred=sentimentModel.predict(test_matrix),\n",
    "                        labels=sentimentModel.classes_)    # use the same order of class as the LR model.\n",
    "print ' target_label | predicted_label | count '\n",
    "print '--------------+-----------------+-------'\n",
    "# Print out the confusion matrix.\n",
    "# NOTE: Your tool may arrange entries in a different order. Consult appropriate manuals.\n",
    "for i, target_label in enumerate(sentimentModel.classes_):\n",
    "    for j, predicted_label in enumerate(sentimentModel.classes_):\n",
    "        print '{0:^13} | {1:^15} | {2:5d}'.format(target_label, predicted_label, cmat[i,j])"
   ]
  },
  {
   "cell_type": "code",
   "execution_count": 16,
   "metadata": {
    "collapsed": false
   },
   "outputs": [
    {
     "name": "stdout",
     "output_type": "stream",
     "text": [
      "Precision on test data: 0.949384262158\n",
      "Recall on test data: 0.971382808329\n"
     ]
    }
   ],
   "source": [
    "from sklearn.metrics import precision_score\n",
    "precision = precision_score(y_true=test['sentiment'].as_matrix(), \n",
    "                            y_pred=sentimentModel.predict(test_matrix))\n",
    "print \"Precision on test data: %s\" % precision\n",
    "\n",
    "from sklearn.metrics import recall_score\n",
    "recall = recall_score(y_true=test['sentiment'].as_matrix(),\n",
    "                      y_pred=sentimentModel.predict(test_matrix))\n",
    "print \"Recall on test data: %s\" % recall"
   ]
  },
  {
   "cell_type": "code",
   "execution_count": 36,
   "metadata": {
    "collapsed": true
   },
   "outputs": [],
   "source": [
    "def apply_threshold(probabilities,threshold):\n",
    "    # probabilities: array of prob\n",
    "    # threshold: boundary for postive and nagetive\n",
    "    pred = np.array(map(lambda x: 1 if x >= threshold else -1,probabilities))\n",
    "    return pred"
   ]
  },
  {
   "cell_type": "code",
   "execution_count": 40,
   "metadata": {
    "collapsed": false
   },
   "outputs": [
    {
     "name": "stdout",
     "output_type": "stream",
     "text": [
      "28746\n",
      "25068\n",
      "0.981490346258\n",
      "0.875743014771\n"
     ]
    }
   ],
   "source": [
    "probabilities = sentimentModel.predict_proba(test_matrix)[:,1]\n",
    "pred1 = apply_threshold(probabilities,0.5)\n",
    "pred2 = apply_threshold(probabilities,0.9)\n",
    "pred3 = apply_threshold(probabilities,0.98)\n",
    "print (pred1 == 1).sum()\n",
    "print (pred2 == 1).sum()\n",
    "\n",
    "precision2 = precision_score(y_true=test['sentiment'].as_matrix(), \n",
    "                            y_pred=pred2)\n",
    "print precision2\n",
    "recall2 = recall_score(y_true=test['sentiment'].as_matrix(),\n",
    "                      y_pred=pred2)\n",
    "print recall2"
   ]
  },
  {
   "cell_type": "code",
   "execution_count": 65,
   "metadata": {
    "collapsed": false
   },
   "outputs": [
    {
     "data": {
      "text/plain": [
       "0.73232323232323238"
      ]
     },
     "execution_count": 65,
     "metadata": {},
     "output_type": "execute_result"
    }
   ],
   "source": [
    "threshold_values = np.linspace(0.5, 1, num=100)\n",
    "type(threshold_values)\n",
    "threshold_values[46]"
   ]
  },
  {
   "cell_type": "code",
   "execution_count": 46,
   "metadata": {
    "collapsed": false
   },
   "outputs": [],
   "source": [
    "precision_all = np.array(map(lambda x: precision_score(y_true=test['sentiment'].as_matrix(), \n",
    "                            y_pred=apply_threshold(probabilities,x)),threshold_values))\n",
    "recall_all = np.array(map(lambda x: recall_score(y_true=test['sentiment'].as_matrix(), \n",
    "                            y_pred=apply_threshold(probabilities,x)),threshold_values))"
   ]
  },
  {
   "cell_type": "code",
   "execution_count": 54,
   "metadata": {
    "collapsed": false
   },
   "outputs": [
    {
     "data": {
      "text/plain": [
       "array([ 0.94938426,  0.95001742,  0.95052819,  0.95094208,  0.95149293,\n",
       "        0.95193652,  0.95215612,  0.95246762,  0.95277963,  0.95310364,\n",
       "        0.9537193 ,  0.95400765,  0.9541974 ,  0.95457901,  0.95485732,\n",
       "        0.95516974,  0.95544118,  0.95578687,  0.95610256,  0.95655402,\n",
       "        0.9568633 ,  0.95735789,  0.95760369,  0.9579668 ,  0.95821351,\n",
       "        0.95880722,  0.95933108,  0.95974923,  0.96023538,  0.96073252,\n",
       "        0.96101344,  0.96136786,  0.96172163,  0.96232165,  0.96265069,\n",
       "        0.96289245,  0.96314805,  0.96366975,  0.96416985,  0.96455002,\n",
       "        0.96475819,  0.96494465,  0.96534116,  0.96565107,  0.96583028,\n",
       "        0.96607149,  0.96646763,  0.96707384,  0.96755809,  0.96801113,\n",
       "        0.96830457,  0.96876606,  0.9693105 ,  0.96969697,  0.97027147,\n",
       "        0.97073063,  0.97094637,  0.97141056,  0.97188591,  0.97235863,\n",
       "        0.97353902,  0.9739258 ,  0.97414443,  0.97435607,  0.97481442,\n",
       "        0.97536067,  0.97586693,  0.97622954,  0.97641708,  0.97662925,\n",
       "        0.97709894,  0.97744622,  0.97805558,  0.97848961,  0.97904332,\n",
       "        0.97978495,  0.9800055 ,  0.98039138,  0.9809233 ,  0.98143056,\n",
       "        0.98192819,  0.98248722,  0.98307144,  0.9833143 ,  0.98384644,\n",
       "        0.98425197,  0.98509837,  0.98530219,  0.98607968,  0.98668971,\n",
       "        0.98724188,  0.98761968,  0.98822353,  0.98883929,  0.98942584,\n",
       "        0.9903545 ,  0.99080219,  0.99217021,  0.99275459,  1.        ])"
      ]
     },
     "execution_count": 54,
     "metadata": {},
     "output_type": "execute_result"
    }
   ],
   "source": [
    "precision_all"
   ]
  },
  {
   "cell_type": "code",
   "execution_count": 42,
   "metadata": {
    "collapsed": true
   },
   "outputs": [],
   "source": [
    "def plot_pr_curve(precision, recall, title):\n",
    "    plt.rcParams['figure.figsize'] = 7, 5\n",
    "    plt.locator_params(axis = 'x', nbins = 5)\n",
    "    plt.plot(precision, recall, 'b-', linewidth=4.0, color = '#B0017F')\n",
    "    plt.title(title)\n",
    "    plt.xlabel('Precision')\n",
    "    plt.ylabel('Recall')\n",
    "    plt.rcParams.update({'font.size': 16})"
   ]
  },
  {
   "cell_type": "code",
   "execution_count": 50,
   "metadata": {
    "collapsed": false
   },
   "outputs": [],
   "source": [
    "plot_pr_curve(precision_all, recall_all, 'Precision recall curve (all)')"
   ]
  },
  {
   "cell_type": "code",
   "execution_count": 53,
   "metadata": {
    "collapsed": false
   },
   "outputs": [
    {
     "data": {
      "text/plain": [
       "8223"
      ]
     },
     "execution_count": 53,
     "metadata": {},
     "output_type": "execute_result"
    }
   ],
   "source": [
    "pred3 = apply_threshold(probabilities,0.98)\n",
    "((pred3==-1) & (test[\"sentiment\"]==1)).sum()"
   ]
  },
  {
   "cell_type": "code",
   "execution_count": 60,
   "metadata": {
    "collapsed": false
   },
   "outputs": [],
   "source": [
    "baby_reviews = test[test['name'].apply(lambda x: 'baby' in x.lower())]\n",
    "baby_matrix = vectorizer.transform(baby_reviews['review_clean'])\n",
    "probabilities_sub = sentimentModel.predict_proba(baby_matrix)[:,1]"
   ]
  },
  {
   "cell_type": "code",
   "execution_count": 63,
   "metadata": {
    "collapsed": false
   },
   "outputs": [
    {
     "data": {
      "text/plain": [
       "array([ 0.94646986,  0.94696565,  0.94778114,  0.94825125,  0.9492676 ,\n",
       "        0.94975863,  0.94974065,  0.94969567,  0.95069918,  0.95103139,\n",
       "        0.95186782,  0.95203018,  0.95253506,  0.95268082,  0.95317846,\n",
       "        0.9536603 ,  0.95379895,  0.95410192,  0.95443862,  0.95492397,\n",
       "        0.9552374 ,  0.95538629,  0.95551117,  0.95619775,  0.95633188,\n",
       "        0.95770283,  0.95821168,  0.95834856,  0.95901939,  0.95952381,\n",
       "        0.96      ,  0.96014692,  0.96046341,  0.96061833,  0.96131172,\n",
       "        0.96127605,  0.96124746,  0.96225019,  0.96277088,  0.96360936,\n",
       "        0.96374791,  0.9639204 ,  0.96425912,  0.96423249,  0.96439224,\n",
       "        0.96437896,  0.96507937,  0.9661239 ,  0.96733621,  0.96784505,\n",
       "        0.96837349,  0.96852026,  0.96886205,  0.96877956,  0.969674  ,\n",
       "        0.9700019 ,  0.97012369,  0.97026872,  0.97077922,  0.97111154,\n",
       "        0.97277467,  0.97310892,  0.97325581,  0.97336185,  0.97348928,\n",
       "        0.97401329,  0.97396241,  0.97448479,  0.97501476,  0.97516263,\n",
       "        0.97567247,  0.97600159,  0.97647528,  0.9768    ,  0.97730468,\n",
       "        0.97842742,  0.97892177,  0.9792472 ,  0.97957099,  0.98027938,\n",
       "        0.98080891,  0.98093264,  0.98146991,  0.9817342 ,  0.98224477,\n",
       "        0.98293151,  0.9844358 ,  0.98494436,  0.98589687,  0.98641425,\n",
       "        0.98731022,  0.98802671,  0.98824912,  0.98865282,  0.98956003,\n",
       "        0.99016054,  0.99044238,  0.99166667,  0.99168111,  1.        ])"
      ]
     },
     "execution_count": 63,
     "metadata": {},
     "output_type": "execute_result"
    }
   ],
   "source": [
    "precision_all_sub = np.array(map(lambda x: precision_score(y_true=baby_reviews['sentiment'].as_matrix(), \n",
    "                            y_pred=apply_threshold(probabilities_sub,x)),threshold_values))\n",
    "precision_all_sub"
   ]
  }
 ],
 "metadata": {
  "kernelspec": {
   "display_name": "Python 2",
   "language": "python",
   "name": "python2"
  },
  "language_info": {
   "codemirror_mode": {
    "name": "ipython",
    "version": 2
   },
   "file_extension": ".py",
   "mimetype": "text/x-python",
   "name": "python",
   "nbconvert_exporter": "python",
   "pygments_lexer": "ipython2",
   "version": "2.7.11"
  }
 },
 "nbformat": 4,
 "nbformat_minor": 0
}

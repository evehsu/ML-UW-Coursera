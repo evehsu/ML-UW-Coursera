{
 "cells": [
  {
   "cell_type": "code",
   "execution_count": 2,
   "metadata": {
    "collapsed": false
   },
   "outputs": [],
   "source": [
    "import pandas as pd\n",
    "import numpy as np\n",
    "#import sframe\n",
    "import sklearn\n",
    "from sklearn.feature_extraction.text import CountVectorizer\n",
    "from sklearn import linear_model\n",
    "import functools\n",
    "import json"
   ]
  },
  {
   "cell_type": "code",
   "execution_count": 13,
   "metadata": {
    "collapsed": false
   },
   "outputs": [],
   "source": [
    "product_pd = pd.read_csv(\"/Users/wxu/workspace/ML-UW-Coursera/classification/week1/amazon_baby.csv\",header=0)"
   ]
  },
  {
   "cell_type": "code",
   "execution_count": 4,
   "metadata": {
    "collapsed": true
   },
   "outputs": [],
   "source": [
    "def remove_punctuation(text):\n",
    "    import string\n",
    "    return text.translate(None, string.punctuation) "
   ]
  },
  {
   "cell_type": "code",
   "execution_count": 14,
   "metadata": {
    "collapsed": false
   },
   "outputs": [],
   "source": [
    "##data cleaning\n",
    "product_pd = product_pd.fillna({\"review\":''})\n",
    "product_pd[\"review_clean\"] = product_pd[\"review\"].apply(remove_punctuation)\n",
    "product_pd = product_pd[product_pd['rating'] != 3]\n",
    "product_pd['sentiment'] = product_pd['rating'].apply(lambda rating: +1 if rating>3 else -1)"
   ]
  },
  {
   "cell_type": "code",
   "execution_count": 16,
   "metadata": {
    "collapsed": false
   },
   "outputs": [],
   "source": [
    "#split to train/test\n",
    "\n",
    "with open(\"/Users/wxu/workspace/ML-UW-Coursera/classification/week1/trainingIdx.json\") as myjson:\n",
    "    for line in myjson:\n",
    "        trainIdx = json.loads(line)\n",
    "with open(\"/Users/wxu/workspace/ML-UW-Coursera/classification/week1/testingIdx.json\") as myjson:\n",
    "    for line in myjson:\n",
    "        testIdx = json.loads(line)\n",
    "train = product_pd.iloc[trainIdx]\n",
    "test = product_pd.iloc[testIdx]\n",
    "train = train.reset_index(range(len(train))).drop(\"index\",axis=1)\n",
    "test = test.reset_index(range(len(train))).drop(\"index\",axis=1)\n",
    "vectorizer = CountVectorizer(token_pattern=r'\\b\\w+\\b')\n",
    "train_matrix = vectorizer.fit_transform(train['review_clean'])\n",
    "test_matrix = vectorizer.transform(test['review_clean'])\n"
   ]
  },
  {
   "cell_type": "code",
   "execution_count": 72,
   "metadata": {
    "collapsed": false
   },
   "outputs": [],
   "source": [
    "logitRgrssn = sklearn.linear_model.LogisticRegression()\n",
    "sentimentModel = logitRgrssn.fit(train_matrix,train['sentiment'])"
   ]
  },
  {
   "cell_type": "code",
   "execution_count": 73,
   "metadata": {
    "collapsed": false
   },
   "outputs": [
    {
     "data": {
      "text/plain": [
       "86121"
      ]
     },
     "execution_count": 73,
     "metadata": {},
     "output_type": "execute_result"
    }
   ],
   "source": [
    "#quiz\n",
    "coef = sentimentModel.coef_.flatten()\n",
    "pos = (coef>=0).sum()\n",
    "pos"
   ]
  },
  {
   "cell_type": "code",
   "execution_count": 76,
   "metadata": {
    "collapsed": false
   },
   "outputs": [],
   "source": [
    "sample_test_data = test[10:13]\n",
    "sample_test_matrix = vectorizer.transform(sample_test_data['review_clean'])\n",
    "\n",
    "\n"
   ]
  },
  {
   "cell_type": "code",
   "execution_count": 77,
   "metadata": {
    "collapsed": false
   },
   "outputs": [
    {
     "name": "stdout",
     "output_type": "stream",
     "text": [
      "0     5.609118\n",
      "1    -3.146160\n",
      "2   -10.417916\n",
      "dtype: float64\n"
     ]
    }
   ],
   "source": [
    "scores = pd.Series(sentimentModel.decision_function(sample_test_matrix))\n",
    "print scores"
   ]
  },
  {
   "cell_type": "code",
   "execution_count": 78,
   "metadata": {
    "collapsed": false
   },
   "outputs": [],
   "source": [
    "def decision_label(scores):\n",
    "    labels =scores.apply(lambda score:+1 if score>=0 else -1)\n",
    "    return labels"
   ]
  },
  {
   "cell_type": "code",
   "execution_count": 80,
   "metadata": {
    "collapsed": false
   },
   "outputs": [
    {
     "name": "stdout",
     "output_type": "stream",
     "text": [
      "0    1\n",
      "1   -1\n",
      "2   -1\n",
      "dtype: int64\n"
     ]
    }
   ],
   "source": [
    "labels = decision_label(scores)\n",
    "print labels"
   ]
  },
  {
   "cell_type": "code",
   "execution_count": 81,
   "metadata": {
    "collapsed": false
   },
   "outputs": [
    {
     "name": "stdout",
     "output_type": "stream",
     "text": [
      "0    0.996349\n",
      "1    0.041243\n",
      "2    0.000030\n",
      "dtype: float64\n"
     ]
    }
   ],
   "source": [
    "probs = 1/(1+np.exp(-scores))\n",
    "print probs"
   ]
  },
  {
   "cell_type": "code",
   "execution_count": 88,
   "metadata": {
    "collapsed": false
   },
   "outputs": [],
   "source": [
    "test[\"predScore\"] = sentimentModel.decision_function(test_matrix)\n",
    "test[\"predLabel\"] = sentimentModel.predict(test_matrix)\n",
    "test[\"predProbs\"] = sentimentModel.predict_proba(test_matrix)[:,1]"
   ]
  },
  {
   "cell_type": "code",
   "execution_count": 92,
   "metadata": {
    "collapsed": false
   },
   "outputs": [
    {
     "data": {
      "text/plain": [
       "31077"
      ]
     },
     "execution_count": 92,
     "metadata": {},
     "output_type": "execute_result"
    }
   ],
   "source": [
    "(test[\"predLabel\"]==test[\"sentiment\"]).sum()"
   ]
  },
  {
   "cell_type": "code",
   "execution_count": 53,
   "metadata": {
    "collapsed": true
   },
   "outputs": [],
   "source": [
    "significant_words = ['love', 'great', 'easy', 'old', 'little', 'perfect', 'loves', \n",
    "      'well', 'able', 'car', 'broke', 'less', 'even', 'waste', 'disappointed', \n",
    "      'work', 'product', 'money', 'would', 'return']\n",
    "vectorizer_word_subset = CountVectorizer(vocabulary=significant_words) # limit to 20 words\n",
    "train_matrix_word_subset = vectorizer_word_subset.fit_transform(train['review_clean'])\n",
    "test_matrix_word_subset = vectorizer_word_subset.transform(test['review_clean'])"
   ]
  },
  {
   "cell_type": "code",
   "execution_count": 54,
   "metadata": {
    "collapsed": false
   },
   "outputs": [],
   "source": [
    "simple_model = logitRgrssn.fit(train_matrix_word_subset,train['sentiment'])"
   ]
  },
  {
   "cell_type": "code",
   "execution_count": 55,
   "metadata": {
    "collapsed": true
   },
   "outputs": [],
   "source": [
    "wordTable = {'word':significant_words,'coefficient':simple_model.coef_.flatten()}"
   ]
  },
  {
   "cell_type": "code",
   "execution_count": 57,
   "metadata": {
    "collapsed": false
   },
   "outputs": [],
   "source": [
    "wordTable2 = pd.DataFrame(wordTable) "
   ]
  },
  {
   "cell_type": "code",
   "execution_count": 64,
   "metadata": {
    "collapsed": false
   },
   "outputs": [
    {
     "data": {
      "text/plain": [
       "0.84278257739380846"
      ]
     },
     "execution_count": 64,
     "metadata": {},
     "output_type": "execute_result"
    }
   ],
   "source": [
    "(test[\"sentiment\"]==1).sum()*1.0/len(test)*1.0"
   ]
  },
  {
   "cell_type": "code",
   "execution_count": null,
   "metadata": {
    "collapsed": true
   },
   "outputs": [],
   "source": [
    "# Note from the exercise\n",
    "#1. when add a new column to pandas data frame, df[\"newcolumn\"] = ndarray(len(df),). don't add a pd series to a df \n",
    "# to avoid the index messed up\n",
    "\n",
    "#2.create dict to convert to pddf {'word':significant_words,'coefficient':simple_model.coef_.flatten()}.key is column name and value is value list\n",
    "#3.count number of records that met with some condition use sum function (test[\"sentiment\"]==1).sum()\n",
    "#4."
   ]
  }
 ],
 "metadata": {
  "kernelspec": {
   "display_name": "Python 2",
   "language": "python",
   "name": "python2"
  },
  "language_info": {
   "codemirror_mode": {
    "name": "ipython",
    "version": 2
   },
   "file_extension": ".py",
   "mimetype": "text/x-python",
   "name": "python",
   "nbconvert_exporter": "python",
   "pygments_lexer": "ipython2",
   "version": "2.7.11"
  }
 },
 "nbformat": 4,
 "nbformat_minor": 0
}

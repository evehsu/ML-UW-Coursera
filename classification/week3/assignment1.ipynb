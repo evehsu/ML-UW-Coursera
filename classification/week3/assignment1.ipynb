{
 "cells": [
  {
   "cell_type": "code",
   "execution_count": 34,
   "metadata": {
    "collapsed": true
   },
   "outputs": [],
   "source": [
    "import pandas as pd\n",
    "import numpy as np\n",
    "#import sframe\n",
    "from sklearn import tree\n",
    "from sklearn.tree import DecisionTreeClassifier\n",
    "import json\n",
    "from __future__ import division"
   ]
  },
  {
   "cell_type": "code",
   "execution_count": 2,
   "metadata": {
    "collapsed": false
   },
   "outputs": [],
   "source": [
    "dtype_dict = {'id':int, 'member_Id':int, 'loan_amnt':float, 'funded_amnt':float, 'funded_amnt_inv':float, \n",
    "              'term':str, 'float_rate':float, 'installment':float, 'grade':str, 'sub_grade':str, 'emp_title':str,\n",
    "              'emp_length':str, 'home_ownership':str, 'annual_inc':float, 'is_inc_v':str, 'issue_d':str, 'loan_status':str, \n",
    "              'pymnt_plan':str, 'url':str, 'desc':str, 'purpose':str,'title':str,'zipcode':str,'addr_state':str,'dti':float,'deling_2yrs':float,'earliest_cr_line':str,\n",
    "             'inq_last_6mths':float,'mths_since_last_delinq':float,'mths_since_last_record':float,'open_acc':float,'pub_rec':float,\n",
    "             'revol_bal':float,'revol_util':float,'total_acc':float,'initial_list_status':str,'out_prncp':float,'out_prncp_inv':float,\n",
    "             'total_pymnt':float,'total_pymnt_inv':float,'total_rec_prncp':float,'total_rec_float':float,'total_rec_late_fee':float,\n",
    "              'recoveries':float,'collection_recovery_fee':float,'last_pymnt_d':str,'last_pymnt_amnt':float,'next_pymnt_d':str,\n",
    "              'last_credit_pull_d':str,'collections_12_mths_ex_med':float,'mths_since_last_major_derog':float,\n",
    "              'policy_code':float,'not_compliant':float,'status':str,'inactive_loans':float,'bad_loans':int,'emp_length_num':float,\n",
    "              'grade_num':float,'sub_grade_num':float,'delinq_2yrs_zero':float,'pub_rec_zero':float,'collections_12_mths_zero':float,\n",
    "              'short_emp':float,'payment_inc_ratio':float,'final_d':str,'last_delinq_none':float,'last_record_none':float,'last_major_derog_none':float}\n",
    "#str,float,int"
   ]
  },
  {
   "cell_type": "code",
   "execution_count": 3,
   "metadata": {
    "collapsed": false
   },
   "outputs": [],
   "source": [
    "loans = pd.read_csv(\"/Users/wxu/workspace/ML-UW-Coursera/classification/week3/lending-club-data.csv\",header=0,dtype = dtype_dict)"
   ]
  },
  {
   "cell_type": "code",
   "execution_count": 4,
   "metadata": {
    "collapsed": false
   },
   "outputs": [],
   "source": [
    "loans[\"safe_loans\"] = loans['bad_loans'].apply(lambda x: 1 if x==0 else -1) #change for itself does not need loc"
   ]
  },
  {
   "cell_type": "code",
   "execution_count": 5,
   "metadata": {
    "collapsed": true
   },
   "outputs": [],
   "source": [
    "features = ['grade',                     # grade of the loan\n",
    "            'sub_grade',                 # sub-grade of the loan\n",
    "            'short_emp',                 # one year or less of employment\n",
    "            'emp_length_num',            # number of years of employment\n",
    "            'home_ownership',            # home_ownership status: own, mortgage or rent\n",
    "            'dti',                       # debt to income ratio\n",
    "            'purpose',                   # the purpose of the loan\n",
    "            'term',                      # the term of the loan\n",
    "            'last_delinq_none',          # has borrower had a delinquincy\n",
    "            'last_major_derog_none',     # has borrower had 90 day or worse rating\n",
    "            'revol_util',                # percent of available credit being used\n",
    "            'total_rec_late_fee',        # total late fees received to day\n",
    "           ]"
   ]
  },
  {
   "cell_type": "code",
   "execution_count": 6,
   "metadata": {
    "collapsed": true
   },
   "outputs": [],
   "source": [
    "target = 'safe_loans'"
   ]
  },
  {
   "cell_type": "code",
   "execution_count": 7,
   "metadata": {
    "collapsed": false
   },
   "outputs": [],
   "source": [
    "loans = loans[features + [target]]"
   ]
  },
  {
   "cell_type": "code",
   "execution_count": 132,
   "metadata": {
    "collapsed": false
   },
   "outputs": [
    {
     "data": {
      "text/plain": [
       "grade                     object\n",
       "sub_grade                 object\n",
       "short_emp                float64\n",
       "emp_length_num           float64\n",
       "home_ownership            object\n",
       "dti                      float64\n",
       "purpose                   object\n",
       "term                      object\n",
       "last_delinq_none         float64\n",
       "last_major_derog_none    float64\n",
       "revol_util               float64\n",
       "total_rec_late_fee       float64\n",
       "safe_loans                 int64\n",
       "dtype: object"
      ]
     },
     "execution_count": 132,
     "metadata": {},
     "output_type": "execute_result"
    }
   ],
   "source": [
    "loans.dtypes"
   ]
  },
  {
   "cell_type": "code",
   "execution_count": 8,
   "metadata": {
    "collapsed": false
   },
   "outputs": [
    {
     "name": "stdout",
     "output_type": "stream",
     "text": [
      "['grade', 'sub_grade', 'home_ownership', 'purpose', 'term']\n"
     ]
    }
   ],
   "source": [
    "#one-hot encoding for categorical data\n",
    "\n",
    "categorical_variables = []\n",
    "for feat_name, feat_type in zip(loans.columns, loans.dtypes):\n",
    "    if feat_type == object:\n",
    "        categorical_variables.append(feat_name)\n",
    "print categorical_variables"
   ]
  },
  {
   "cell_type": "code",
   "execution_count": 9,
   "metadata": {
    "collapsed": false
   },
   "outputs": [],
   "source": [
    "loansWithDummy = pd.get_dummies(loans,columns = categorical_variables)"
   ]
  },
  {
   "cell_type": "code",
   "execution_count": 10,
   "metadata": {
    "collapsed": false
   },
   "outputs": [],
   "source": [
    "loans = loansWithDummy.fillna(0)"
   ]
  },
  {
   "cell_type": "code",
   "execution_count": 11,
   "metadata": {
    "collapsed": false
   },
   "outputs": [],
   "source": [
    "with open(\"/Users/wxu/workspace/ML-UW-Coursera/classification/week3/trainingIdx.json\") as myjson:\n",
    "    for line in myjson:\n",
    "        trainIdx = json.loads(line)\n",
    "with open(\"/Users/wxu/workspace/ML-UW-Coursera/classification/week3/validIdx.json\") as myjson:\n",
    "    for line in myjson:\n",
    "        validIdx = json.loads(line)\n",
    "train = loans.iloc[trainIdx]\n",
    "valid = loans.iloc[validIdx]"
   ]
  },
  {
   "cell_type": "code",
   "execution_count": 12,
   "metadata": {
    "collapsed": false
   },
   "outputs": [
    {
     "name": "stdout",
     "output_type": "stream",
     "text": [
      "(37224, 68)\n",
      "(9284, 68)\n"
     ]
    }
   ],
   "source": [
    "print train.shape\n",
    "print valid.shape"
   ]
  },
  {
   "cell_type": "code",
   "execution_count": 13,
   "metadata": {
    "collapsed": false
   },
   "outputs": [
    {
     "data": {
      "text/html": [
       "<div>\n",
       "<table border=\"1\" class=\"dataframe\">\n",
       "  <thead>\n",
       "    <tr style=\"text-align: right;\">\n",
       "      <th></th>\n",
       "      <th>short_emp</th>\n",
       "      <th>emp_length_num</th>\n",
       "      <th>dti</th>\n",
       "      <th>last_delinq_none</th>\n",
       "      <th>last_major_derog_none</th>\n",
       "      <th>revol_util</th>\n",
       "      <th>total_rec_late_fee</th>\n",
       "      <th>safe_loans</th>\n",
       "      <th>grade_A</th>\n",
       "      <th>grade_B</th>\n",
       "      <th>...</th>\n",
       "      <th>purpose_house</th>\n",
       "      <th>purpose_major_purchase</th>\n",
       "      <th>purpose_medical</th>\n",
       "      <th>purpose_moving</th>\n",
       "      <th>purpose_other</th>\n",
       "      <th>purpose_small_business</th>\n",
       "      <th>purpose_vacation</th>\n",
       "      <th>purpose_wedding</th>\n",
       "      <th>term_ 36 months</th>\n",
       "      <th>term_ 60 months</th>\n",
       "    </tr>\n",
       "  </thead>\n",
       "  <tbody>\n",
       "    <tr>\n",
       "      <th>19</th>\n",
       "      <td>0</td>\n",
       "      <td>11</td>\n",
       "      <td>11.18</td>\n",
       "      <td>1</td>\n",
       "      <td>1</td>\n",
       "      <td>82.4</td>\n",
       "      <td>0</td>\n",
       "      <td>1</td>\n",
       "      <td>0</td>\n",
       "      <td>1</td>\n",
       "      <td>...</td>\n",
       "      <td>0</td>\n",
       "      <td>0</td>\n",
       "      <td>0</td>\n",
       "      <td>0</td>\n",
       "      <td>0</td>\n",
       "      <td>0</td>\n",
       "      <td>0</td>\n",
       "      <td>0</td>\n",
       "      <td>1</td>\n",
       "      <td>0</td>\n",
       "    </tr>\n",
       "    <tr>\n",
       "      <th>79</th>\n",
       "      <td>0</td>\n",
       "      <td>10</td>\n",
       "      <td>16.85</td>\n",
       "      <td>1</td>\n",
       "      <td>1</td>\n",
       "      <td>96.4</td>\n",
       "      <td>0</td>\n",
       "      <td>1</td>\n",
       "      <td>0</td>\n",
       "      <td>0</td>\n",
       "      <td>...</td>\n",
       "      <td>0</td>\n",
       "      <td>0</td>\n",
       "      <td>0</td>\n",
       "      <td>0</td>\n",
       "      <td>0</td>\n",
       "      <td>0</td>\n",
       "      <td>0</td>\n",
       "      <td>0</td>\n",
       "      <td>1</td>\n",
       "      <td>0</td>\n",
       "    </tr>\n",
       "    <tr>\n",
       "      <th>24</th>\n",
       "      <td>0</td>\n",
       "      <td>3</td>\n",
       "      <td>13.97</td>\n",
       "      <td>0</td>\n",
       "      <td>1</td>\n",
       "      <td>59.5</td>\n",
       "      <td>0</td>\n",
       "      <td>-1</td>\n",
       "      <td>0</td>\n",
       "      <td>0</td>\n",
       "      <td>...</td>\n",
       "      <td>0</td>\n",
       "      <td>0</td>\n",
       "      <td>0</td>\n",
       "      <td>0</td>\n",
       "      <td>1</td>\n",
       "      <td>0</td>\n",
       "      <td>0</td>\n",
       "      <td>0</td>\n",
       "      <td>0</td>\n",
       "      <td>1</td>\n",
       "    </tr>\n",
       "    <tr>\n",
       "      <th>41</th>\n",
       "      <td>0</td>\n",
       "      <td>11</td>\n",
       "      <td>16.33</td>\n",
       "      <td>1</td>\n",
       "      <td>1</td>\n",
       "      <td>62.1</td>\n",
       "      <td>0</td>\n",
       "      <td>-1</td>\n",
       "      <td>1</td>\n",
       "      <td>0</td>\n",
       "      <td>...</td>\n",
       "      <td>0</td>\n",
       "      <td>0</td>\n",
       "      <td>0</td>\n",
       "      <td>0</td>\n",
       "      <td>0</td>\n",
       "      <td>0</td>\n",
       "      <td>0</td>\n",
       "      <td>0</td>\n",
       "      <td>1</td>\n",
       "      <td>0</td>\n",
       "    </tr>\n",
       "  </tbody>\n",
       "</table>\n",
       "<p>4 rows × 68 columns</p>\n",
       "</div>"
      ],
      "text/plain": [
       "    short_emp  emp_length_num    dti  last_delinq_none  last_major_derog_none  \\\n",
       "19          0              11  11.18                 1                      1   \n",
       "79          0              10  16.85                 1                      1   \n",
       "24          0               3  13.97                 0                      1   \n",
       "41          0              11  16.33                 1                      1   \n",
       "\n",
       "    revol_util  total_rec_late_fee  safe_loans  grade_A  grade_B  \\\n",
       "19        82.4                   0           1        0        1   \n",
       "79        96.4                   0           1        0        0   \n",
       "24        59.5                   0          -1        0        0   \n",
       "41        62.1                   0          -1        1        0   \n",
       "\n",
       "         ...         purpose_house  purpose_major_purchase  purpose_medical  \\\n",
       "19       ...                     0                       0                0   \n",
       "79       ...                     0                       0                0   \n",
       "24       ...                     0                       0                0   \n",
       "41       ...                     0                       0                0   \n",
       "\n",
       "    purpose_moving  purpose_other  purpose_small_business  purpose_vacation  \\\n",
       "19               0              0                       0                 0   \n",
       "79               0              0                       0                 0   \n",
       "24               0              1                       0                 0   \n",
       "41               0              0                       0                 0   \n",
       "\n",
       "    purpose_wedding  term_ 36 months  term_ 60 months  \n",
       "19                0                1                0  \n",
       "79                0                1                0  \n",
       "24                0                0                1  \n",
       "41                0                1                0  \n",
       "\n",
       "[4 rows x 68 columns]"
      ]
     },
     "execution_count": 13,
     "metadata": {},
     "output_type": "execute_result"
    }
   ],
   "source": [
    "validation_safe_loans = valid[valid[target] == 1]\n",
    "validation_risky_loans = valid[valid[target] == -1]\n",
    "\n",
    "sample_validation_data_risky = validation_risky_loans[0:2]\n",
    "sample_validation_data_safe = validation_safe_loans[0:2]\n",
    "\n",
    "sample_validation_data = sample_validation_data_safe.append(sample_validation_data_risky)\n",
    "sample_validation_data"
   ]
  },
  {
   "cell_type": "code",
   "execution_count": 14,
   "metadata": {
    "collapsed": true
   },
   "outputs": [],
   "source": [
    "def get_numpy_data(df,features,label):\n",
    "    # df: a data frame that need to be transformed\n",
    "    # features: a list of strings for the features name\n",
    "    # label : single string for the class labels\n",
    "    features_frame = df[features]\n",
    "    features_matrix = features_frame.as_matrix()\n",
    "    label_sarray = df[[label]]\n",
    "    label_array= label_sarray.as_matrix()\n",
    "    return(features_matrix,label_array)"
   ]
  },
  {
   "cell_type": "code",
   "execution_count": 41,
   "metadata": {
    "collapsed": false
   },
   "outputs": [],
   "source": [
    "featureName = list(loans.columns)\n",
    "featureName.remove(\"safe_loans\")\n",
    "feature_matrix_train,label_train = get_numpy_data(train,featureName,\"safe_loans\")\n",
    "feature_sample_validation_data,label_sample_validation_data =  get_numpy_data(sample_validation_data,featureName,\"safe_loans\")\n",
    "feature_valid_data,label_valid =  get_numpy_data(valid,featureName,\"safe_loans\")\n"
   ]
  },
  {
   "cell_type": "code",
   "execution_count": 16,
   "metadata": {
    "collapsed": false
   },
   "outputs": [],
   "source": [
    "tree1 = DecisionTreeClassifier(max_depth=6)\n",
    "tree2 = DecisionTreeClassifier(max_depth=2)"
   ]
  },
  {
   "cell_type": "code",
   "execution_count": 17,
   "metadata": {
    "collapsed": false
   },
   "outputs": [],
   "source": [
    "decision_tree_model = tree1.fit(feature_matrix_train,label_train)\n",
    "small_model = tree2.fit(feature_matrix_train,label_train)\n",
    "#decision_tree_model = tree1.fit(train_feature,train_label)\n",
    "#small_model = tree2.fit(train_feature,train_label)"
   ]
  },
  {
   "cell_type": "code",
   "execution_count": 18,
   "metadata": {
    "collapsed": false
   },
   "outputs": [],
   "source": [
    "#prediction\n",
    "pred_big = decision_tree_model.predict(feature_sample_validation_data)\n",
    "pred_big_prob = decision_tree_model.predict_proba(feature_sample_validation_data)\n",
    "pred_small = small_model.predict(feature_sample_validation_data)\n",
    "pred_small_prob = small_model.predict_proba(feature_sample_validation_data)"
   ]
  },
  {
   "cell_type": "code",
   "execution_count": 19,
   "metadata": {
    "collapsed": false
   },
   "outputs": [
    {
     "name": "stdout",
     "output_type": "stream",
     "text": [
      "[ 1 -1 -1  1]\n",
      "[ 1 -1 -1  1]\n",
      "[[ 1]\n",
      " [ 1]\n",
      " [-1]\n",
      " [-1]]\n"
     ]
    }
   ],
   "source": [
    "print pred_big\n",
    "print pred_small\n",
    "print label_sample_validation_data"
   ]
  },
  {
   "cell_type": "code",
   "execution_count": 163,
   "metadata": {
    "collapsed": false
   },
   "outputs": [
    {
     "data": {
      "text/plain": [
       "array([[ 0.34156543,  0.65843457],\n",
       "       [ 0.53630646,  0.46369354],\n",
       "       [ 0.64750958,  0.35249042],\n",
       "       [ 0.20789474,  0.79210526]])"
      ]
     },
     "execution_count": 163,
     "metadata": {},
     "output_type": "execute_result"
    }
   ],
   "source": [
    "pred_big_prob"
   ]
  },
  {
   "cell_type": "code",
   "execution_count": 165,
   "metadata": {
    "collapsed": false
   },
   "outputs": [
    {
     "data": {
      "text/plain": [
       "array([[ 0.41896585,  0.58103415],\n",
       "       [ 0.59255339,  0.40744661],\n",
       "       [ 0.59255339,  0.40744661],\n",
       "       [ 0.23120112,  0.76879888]])"
      ]
     },
     "execution_count": 165,
     "metadata": {},
     "output_type": "execute_result"
    }
   ],
   "source": [
    "pred_small_prob"
   ]
  },
  {
   "cell_type": "code",
   "execution_count": 46,
   "metadata": {
    "collapsed": false
   },
   "outputs": [
    {
     "name": "stdout",
     "output_type": "stream",
     "text": [
      "0.640527616591\n",
      "0.613502041694\n",
      "0.636148211978\n",
      "0.619345109866\n"
     ]
    }
   ],
   "source": [
    "#pred on training\n",
    "pred_big_train = decision_tree_model.predict(feature_matrix_train)\n",
    "pred_small_train = small_model.predict(feature_matrix_train)\n",
    "pred_big_train.shape=(37224,1)\n",
    "pred_small_train.shape=(37224,1)#compare 2 np array ,check whether their shape are the same\n",
    "print (pred_big_train==label_train).sum()/label_train.shape[0]\n",
    "print (pred_small_train==label_train).sum()/label_train.shape[0]\n",
    "pred_big_valid = decision_tree_model.predict(feature_valid_data)\n",
    "pred_small_valid = small_model.predict(feature_valid_data)\n",
    "pred_big_valid.shape=(9284,1)\n",
    "pred_small_valid.shape=(9284,1)\n",
    "print (pred_big_valid==label_valid).sum()/label_valid.shape[0]\n",
    "print (pred_small_valid==label_valid).sum()/label_valid.shape[0]"
   ]
  },
  {
   "cell_type": "code",
   "execution_count": 47,
   "metadata": {
    "collapsed": false
   },
   "outputs": [
    {
     "name": "stdout",
     "output_type": "stream",
     "text": [
      "0.663845905867\n",
      "0.663845905867\n",
      "0.496553209823\n",
      "0.496553209823\n"
     ]
    }
   ],
   "source": [
    "tree3 =  DecisionTreeClassifier(max_depth=10)\n",
    "super_big_model = tree3.fit(feature_matrix_train,label_train)\n",
    "pred_superBig_train = super_big_model.predict(feature_matrix_train)\n",
    "pred_superBig_valid = super_big_model.predict(feature_valid_data)\n",
    "pred_superBig_train .shape=(37224,1)\n",
    "pred_superBig_train .shape=(37224,1)\n",
    "pred_superBig_valid=(9284,1)\n",
    "pred_superBig_valid=(9284,1)\n",
    "print (pred_superBig_train==label_train).sum()/label_train.shape[0]\n",
    "print (pred_superBig_train==label_train).sum()/label_train.shape[0]\n",
    "print (pred_superBig_valid==label_valid).sum()/label_valid.shape[0]\n",
    "print (pred_superBig_valid==label_valid).sum()/label_valid.shape[0]"
   ]
  },
  {
   "cell_type": "code",
   "execution_count": 60,
   "metadata": {
    "collapsed": false
   },
   "outputs": [
    {
     "data": {
      "text/plain": [
       "1717"
      ]
     },
     "execution_count": 60,
     "metadata": {},
     "output_type": "execute_result"
    }
   ],
   "source": [
    "#false neg\n",
    "a=pred_big_valid== -1 \n",
    "b=label_valid ==1\n",
    "c=a&b\n",
    "c.sum()\n",
    "#c 6613"
   ]
  },
  {
   "cell_type": "code",
   "execution_count": 61,
   "metadata": {
    "collapsed": false
   },
   "outputs": [
    {
     "data": {
      "text/plain": [
       "1661"
      ]
     },
     "execution_count": 61,
     "metadata": {},
     "output_type": "execute_result"
    }
   ],
   "source": [
    "#false pos\n",
    "d=pred_big_valid== 1 \n",
    "e=label_valid ==-1\n",
    "f=d&e\n",
    "f.sum()"
   ]
  },
  {
   "cell_type": "code",
   "execution_count": null,
   "metadata": {
    "collapsed": true
   },
   "outputs": [],
   "source": [
    "# save int as float if not sure\n",
    "# change a column by it self or create a new column does not need to use loc.\n",
    "# pd.series.apply could equal to pd.series.map when using lambda function\n",
    "# sk learn for categorical, using get_dummies(df,cat_col_name_list)"
   ]
  }
 ],
 "metadata": {
  "kernelspec": {
   "display_name": "Python 2",
   "language": "python",
   "name": "python2"
  },
  "language_info": {
   "codemirror_mode": {
    "name": "ipython",
    "version": 2
   },
   "file_extension": ".py",
   "mimetype": "text/x-python",
   "name": "python",
   "nbconvert_exporter": "python",
   "pygments_lexer": "ipython2",
   "version": "2.7.11"
  }
 },
 "nbformat": 4,
 "nbformat_minor": 0
}
